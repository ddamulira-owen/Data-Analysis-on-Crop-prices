{
 "cells": [
  {
   "cell_type": "markdown",
   "metadata": {},
   "source": [
    "### Importing Libraries\n",
    "This cell imports essential libraries for data manipulation, analysis, handling missing data, visualization, and statistical analysis.\n"
   ]
  },
  {
   "cell_type": "code",
   "execution_count": 125,
   "metadata": {},
   "outputs": [],
   "source": [
    "# Libraries for data manipulation and analysis\n",
    "import pandas as pd  # Data manipulation and analysis\n",
    "import numpy as np  # Numerical operations and arrays\n",
    "\n",
    "# Libraries for handling missing data\n",
    "from sklearn.impute import SimpleImputer  # Simple imputation\n",
    "import missingno as msno  # Visualizing missing data\n",
    "\n",
    "# Visualization libraries\n",
    "import matplotlib.pyplot as plt  # Plotting and visualization\n",
    "import seaborn as sns  # Statistical data visualization\n",
    "\n",
    "# Statistical analysis (if needed)\n",
    "import scipy.stats as stats  # Statistical functions\n",
    "\n",
    "# Libraries for cumulative graphs\n",
    "import plotly.express as px\n",
    "import plotly.graph_objects as go\n",
    "import nbformat\n",
    "\n",
    "\n",
    "import random\n"
   ]
  },
  {
   "cell_type": "markdown",
   "metadata": {},
   "source": [
    "### Display Initial DataFrame\n",
    "This cell displays the initial DataFrame to understand the structure and the data it contains.\n"
   ]
  },
  {
   "cell_type": "code",
   "execution_count": 126,
   "metadata": {},
   "outputs": [
    {
     "data": {
      "text/html": [
       "<div>\n",
       "<style scoped>\n",
       "    .dataframe tbody tr th:only-of-type {\n",
       "        vertical-align: middle;\n",
       "    }\n",
       "\n",
       "    .dataframe tbody tr th {\n",
       "        vertical-align: top;\n",
       "    }\n",
       "\n",
       "    .dataframe thead th {\n",
       "        text-align: right;\n",
       "    }\n",
       "</style>\n",
       "<table border=\"1\" class=\"dataframe\">\n",
       "  <thead>\n",
       "    <tr style=\"text-align: right;\">\n",
       "      <th></th>\n",
       "      <th>year</th>\n",
       "      <th>state_name</th>\n",
       "      <th>county_name</th>\n",
       "      <th>country_code</th>\n",
       "      <th>commodity_desc</th>\n",
       "      <th>class_desc</th>\n",
       "      <th>unit_desc</th>\n",
       "      <th>freq_desc</th>\n",
       "      <th>group_desc</th>\n",
       "      <th>source_desc</th>\n",
       "      <th>sector_desc</th>\n",
       "      <th>commodity_desc.1</th>\n",
       "      <th>statisticcat_desc</th>\n",
       "      <th>begin_code</th>\n",
       "      <th>Value</th>\n",
       "    </tr>\n",
       "  </thead>\n",
       "  <tbody>\n",
       "    <tr>\n",
       "      <th>0</th>\n",
       "      <td>2021</td>\n",
       "      <td>WEST VIRGINIA</td>\n",
       "      <td>NaN</td>\n",
       "      <td>9000</td>\n",
       "      <td>CORN</td>\n",
       "      <td>ALL CLASSES</td>\n",
       "      <td>PCT EMERGED</td>\n",
       "      <td>WEEKLY</td>\n",
       "      <td>FIELD CROPS</td>\n",
       "      <td>SURVEY</td>\n",
       "      <td>CROPS</td>\n",
       "      <td>CORN</td>\n",
       "      <td>PROGRESS, 5 YEAR AVG</td>\n",
       "      <td>18</td>\n",
       "      <td>7</td>\n",
       "    </tr>\n",
       "    <tr>\n",
       "      <th>1</th>\n",
       "      <td>2023</td>\n",
       "      <td>NORTH DAKOTA</td>\n",
       "      <td>NaN</td>\n",
       "      <td>9000</td>\n",
       "      <td>CORN</td>\n",
       "      <td>ALL CLASSES</td>\n",
       "      <td>BU</td>\n",
       "      <td>ANNUAL</td>\n",
       "      <td>FIELD CROPS</td>\n",
       "      <td>SURVEY</td>\n",
       "      <td>CROPS</td>\n",
       "      <td>CORN</td>\n",
       "      <td>PRODUCTION</td>\n",
       "      <td>0</td>\n",
       "      <td>516,120,000</td>\n",
       "    </tr>\n",
       "    <tr>\n",
       "      <th>2</th>\n",
       "      <td>2023</td>\n",
       "      <td>NORTH DAKOTA</td>\n",
       "      <td>NaN</td>\n",
       "      <td>9000</td>\n",
       "      <td>CORN</td>\n",
       "      <td>ALL CLASSES</td>\n",
       "      <td>PCT DOUGH</td>\n",
       "      <td>WEEKLY</td>\n",
       "      <td>FIELD CROPS</td>\n",
       "      <td>SURVEY</td>\n",
       "      <td>CROPS</td>\n",
       "      <td>CORN</td>\n",
       "      <td>PROGRESS, PREVIOUS YEAR</td>\n",
       "      <td>28</td>\n",
       "      <td>0</td>\n",
       "    </tr>\n",
       "    <tr>\n",
       "      <th>3</th>\n",
       "      <td>2021</td>\n",
       "      <td>US TOTAL</td>\n",
       "      <td>NaN</td>\n",
       "      <td>9000</td>\n",
       "      <td>CORN</td>\n",
       "      <td>ALL CLASSES</td>\n",
       "      <td>PCT FAIR</td>\n",
       "      <td>WEEKLY</td>\n",
       "      <td>FIELD CROPS</td>\n",
       "      <td>SURVEY</td>\n",
       "      <td>CROPS</td>\n",
       "      <td>CORN</td>\n",
       "      <td>CONDITION, PREVIOUS YEAR</td>\n",
       "      <td>41</td>\n",
       "      <td>25</td>\n",
       "    </tr>\n",
       "    <tr>\n",
       "      <th>4</th>\n",
       "      <td>2021</td>\n",
       "      <td>NEW HAMPSHIRE</td>\n",
       "      <td>NaN</td>\n",
       "      <td>9000</td>\n",
       "      <td>CORN</td>\n",
       "      <td>ALL CLASSES</td>\n",
       "      <td>PCT POOR</td>\n",
       "      <td>WEEKLY</td>\n",
       "      <td>FIELD CROPS</td>\n",
       "      <td>SURVEY</td>\n",
       "      <td>CROPS</td>\n",
       "      <td>CORN</td>\n",
       "      <td>CONDITION, PREVIOUS YEAR</td>\n",
       "      <td>35</td>\n",
       "      <td>20</td>\n",
       "    </tr>\n",
       "    <tr>\n",
       "      <th>5</th>\n",
       "      <td>2023</td>\n",
       "      <td>NEBRASKA</td>\n",
       "      <td>NaN</td>\n",
       "      <td>9000</td>\n",
       "      <td>CORN</td>\n",
       "      <td>ALL CLASSES</td>\n",
       "      <td>PCT FAIR</td>\n",
       "      <td>WEEKLY</td>\n",
       "      <td>FIELD CROPS</td>\n",
       "      <td>SURVEY</td>\n",
       "      <td>CROPS</td>\n",
       "      <td>CORN</td>\n",
       "      <td>CONDITION, 5 YEAR AVG</td>\n",
       "      <td>35</td>\n",
       "      <td>21</td>\n",
       "    </tr>\n",
       "    <tr>\n",
       "      <th>6</th>\n",
       "      <td>2023</td>\n",
       "      <td>PENNSYLVANIA</td>\n",
       "      <td>NaN</td>\n",
       "      <td>9000</td>\n",
       "      <td>CORN</td>\n",
       "      <td>ALL CLASSES</td>\n",
       "      <td>PCT GOOD</td>\n",
       "      <td>WEEKLY</td>\n",
       "      <td>FIELD CROPS</td>\n",
       "      <td>SURVEY</td>\n",
       "      <td>CROPS</td>\n",
       "      <td>CORN</td>\n",
       "      <td>CONDITION</td>\n",
       "      <td>33</td>\n",
       "      <td>63</td>\n",
       "    </tr>\n",
       "    <tr>\n",
       "      <th>7</th>\n",
       "      <td>2021</td>\n",
       "      <td>ARKANSAS</td>\n",
       "      <td>NaN</td>\n",
       "      <td>9000</td>\n",
       "      <td>CORN</td>\n",
       "      <td>ALL CLASSES</td>\n",
       "      <td>PCT GOOD</td>\n",
       "      <td>WEEKLY</td>\n",
       "      <td>FIELD CROPS</td>\n",
       "      <td>SURVEY</td>\n",
       "      <td>CROPS</td>\n",
       "      <td>CORN</td>\n",
       "      <td>CONDITION, 5 YEAR AVG</td>\n",
       "      <td>30</td>\n",
       "      <td>47</td>\n",
       "    </tr>\n",
       "    <tr>\n",
       "      <th>8</th>\n",
       "      <td>2021</td>\n",
       "      <td>INDIANA</td>\n",
       "      <td>WABASH</td>\n",
       "      <td>9000</td>\n",
       "      <td>CORN</td>\n",
       "      <td>ALL CLASSES</td>\n",
       "      <td>BU / ACRE</td>\n",
       "      <td>ANNUAL</td>\n",
       "      <td>FIELD CROPS</td>\n",
       "      <td>SURVEY</td>\n",
       "      <td>CROPS</td>\n",
       "      <td>CORN</td>\n",
       "      <td>YIELD</td>\n",
       "      <td>0</td>\n",
       "      <td>189</td>\n",
       "    </tr>\n",
       "    <tr>\n",
       "      <th>9</th>\n",
       "      <td>2022</td>\n",
       "      <td>MINNESOTA</td>\n",
       "      <td>NaN</td>\n",
       "      <td>9000</td>\n",
       "      <td>CORN</td>\n",
       "      <td>ALL CLASSES</td>\n",
       "      <td>PCT POOR</td>\n",
       "      <td>WEEKLY</td>\n",
       "      <td>FIELD CROPS</td>\n",
       "      <td>SURVEY</td>\n",
       "      <td>CROPS</td>\n",
       "      <td>CORN</td>\n",
       "      <td>CONDITION</td>\n",
       "      <td>22</td>\n",
       "      <td>3</td>\n",
       "    </tr>\n",
       "    <tr>\n",
       "      <th>10</th>\n",
       "      <td>2020</td>\n",
       "      <td>COLORADO</td>\n",
       "      <td>NaN</td>\n",
       "      <td>9000</td>\n",
       "      <td>CORN</td>\n",
       "      <td>ALL CLASSES</td>\n",
       "      <td>PCT PLANTED</td>\n",
       "      <td>WEEKLY</td>\n",
       "      <td>FIELD CROPS</td>\n",
       "      <td>SURVEY</td>\n",
       "      <td>CROPS</td>\n",
       "      <td>CORN</td>\n",
       "      <td>PROGRESS, 5 YEAR AVG</td>\n",
       "      <td>23</td>\n",
       "      <td>94</td>\n",
       "    </tr>\n",
       "    <tr>\n",
       "      <th>11</th>\n",
       "      <td>2020</td>\n",
       "      <td>UTAH</td>\n",
       "      <td>NaN</td>\n",
       "      <td>9000</td>\n",
       "      <td>CORN</td>\n",
       "      <td>ALL CLASSES</td>\n",
       "      <td>PCT POOR</td>\n",
       "      <td>WEEKLY</td>\n",
       "      <td>FIELD CROPS</td>\n",
       "      <td>SURVEY</td>\n",
       "      <td>CROPS</td>\n",
       "      <td>CORN</td>\n",
       "      <td>CONDITION, 5 YEAR AVG</td>\n",
       "      <td>28</td>\n",
       "      <td>1</td>\n",
       "    </tr>\n",
       "    <tr>\n",
       "      <th>12</th>\n",
       "      <td>2022</td>\n",
       "      <td>OHIO</td>\n",
       "      <td>NaN</td>\n",
       "      <td>9000</td>\n",
       "      <td>CORN</td>\n",
       "      <td>ALL CLASSES</td>\n",
       "      <td>PCT EXCELLENT</td>\n",
       "      <td>WEEKLY</td>\n",
       "      <td>FIELD CROPS</td>\n",
       "      <td>SURVEY</td>\n",
       "      <td>CROPS</td>\n",
       "      <td>CORN</td>\n",
       "      <td>CONDITION, 5 YEAR AVG</td>\n",
       "      <td>33</td>\n",
       "      <td>13</td>\n",
       "    </tr>\n",
       "    <tr>\n",
       "      <th>13</th>\n",
       "      <td>2021</td>\n",
       "      <td>IOWA</td>\n",
       "      <td>NaN</td>\n",
       "      <td>9000</td>\n",
       "      <td>CORN</td>\n",
       "      <td>ALL CLASSES</td>\n",
       "      <td>PCT VERY POOR</td>\n",
       "      <td>WEEKLY</td>\n",
       "      <td>FIELD CROPS</td>\n",
       "      <td>SURVEY</td>\n",
       "      <td>CROPS</td>\n",
       "      <td>CORN</td>\n",
       "      <td>CONDITION, 5 YEAR AVG</td>\n",
       "      <td>41</td>\n",
       "      <td>4</td>\n",
       "    </tr>\n",
       "    <tr>\n",
       "      <th>14</th>\n",
       "      <td>2020</td>\n",
       "      <td>WASHINGTON</td>\n",
       "      <td>NaN</td>\n",
       "      <td>9000</td>\n",
       "      <td>CORN</td>\n",
       "      <td>ALL CLASSES</td>\n",
       "      <td>PCT POOR</td>\n",
       "      <td>WEEKLY</td>\n",
       "      <td>FIELD CROPS</td>\n",
       "      <td>SURVEY</td>\n",
       "      <td>CROPS</td>\n",
       "      <td>CORN</td>\n",
       "      <td>CONDITION, PREVIOUS YEAR</td>\n",
       "      <td>28</td>\n",
       "      <td>0</td>\n",
       "    </tr>\n",
       "    <tr>\n",
       "      <th>15</th>\n",
       "      <td>2020</td>\n",
       "      <td>MONTANA</td>\n",
       "      <td>NaN</td>\n",
       "      <td>9000</td>\n",
       "      <td>CORN</td>\n",
       "      <td>ALL CLASSES</td>\n",
       "      <td>PCT VERY POOR</td>\n",
       "      <td>WEEKLY</td>\n",
       "      <td>FIELD CROPS</td>\n",
       "      <td>SURVEY</td>\n",
       "      <td>CROPS</td>\n",
       "      <td>CORN</td>\n",
       "      <td>CONDITION, PREVIOUS YEAR</td>\n",
       "      <td>28</td>\n",
       "      <td>0</td>\n",
       "    </tr>\n",
       "    <tr>\n",
       "      <th>16</th>\n",
       "      <td>2023</td>\n",
       "      <td>COLORADO</td>\n",
       "      <td>NaN</td>\n",
       "      <td>9000</td>\n",
       "      <td>CORN</td>\n",
       "      <td>ALL CLASSES</td>\n",
       "      <td>PCT DOUGH</td>\n",
       "      <td>WEEKLY</td>\n",
       "      <td>FIELD CROPS</td>\n",
       "      <td>SURVEY</td>\n",
       "      <td>CROPS</td>\n",
       "      <td>CORN</td>\n",
       "      <td>PROGRESS, 5 YEAR AVG</td>\n",
       "      <td>29</td>\n",
       "      <td>4</td>\n",
       "    </tr>\n",
       "    <tr>\n",
       "      <th>17</th>\n",
       "      <td>2023</td>\n",
       "      <td>VERMONT</td>\n",
       "      <td>NaN</td>\n",
       "      <td>9000</td>\n",
       "      <td>CORN</td>\n",
       "      <td>ALL CLASSES</td>\n",
       "      <td>PCT EXCELLENT</td>\n",
       "      <td>WEEKLY</td>\n",
       "      <td>FIELD CROPS</td>\n",
       "      <td>SURVEY</td>\n",
       "      <td>CROPS</td>\n",
       "      <td>CORN</td>\n",
       "      <td>CONDITION, PREVIOUS YEAR</td>\n",
       "      <td>40</td>\n",
       "      <td>0</td>\n",
       "    </tr>\n",
       "    <tr>\n",
       "      <th>18</th>\n",
       "      <td>2023</td>\n",
       "      <td>NORTH CAROLINA</td>\n",
       "      <td>NaN</td>\n",
       "      <td>9000</td>\n",
       "      <td>CORN</td>\n",
       "      <td>ALL CLASSES</td>\n",
       "      <td>PCT HARVESTED</td>\n",
       "      <td>WEEKLY</td>\n",
       "      <td>FIELD CROPS</td>\n",
       "      <td>SURVEY</td>\n",
       "      <td>CROPS</td>\n",
       "      <td>CORN</td>\n",
       "      <td>PROGRESS, 5 YEAR AVG</td>\n",
       "      <td>39</td>\n",
       "      <td>93</td>\n",
       "    </tr>\n",
       "    <tr>\n",
       "      <th>19</th>\n",
       "      <td>2021</td>\n",
       "      <td>WASHINGTON</td>\n",
       "      <td>NaN</td>\n",
       "      <td>9000</td>\n",
       "      <td>CORN</td>\n",
       "      <td>ALL CLASSES</td>\n",
       "      <td>PCT HARVESTED</td>\n",
       "      <td>WEEKLY</td>\n",
       "      <td>FIELD CROPS</td>\n",
       "      <td>SURVEY</td>\n",
       "      <td>CROPS</td>\n",
       "      <td>CORN</td>\n",
       "      <td>PROGRESS, PREVIOUS YEAR</td>\n",
       "      <td>39</td>\n",
       "      <td>49</td>\n",
       "    </tr>\n",
       "    <tr>\n",
       "      <th>20</th>\n",
       "      <td>2022</td>\n",
       "      <td>MICHIGAN</td>\n",
       "      <td>NaN</td>\n",
       "      <td>9000</td>\n",
       "      <td>CORN</td>\n",
       "      <td>ALL CLASSES</td>\n",
       "      <td>PCT EXCELLENT</td>\n",
       "      <td>WEEKLY</td>\n",
       "      <td>FIELD CROPS</td>\n",
       "      <td>SURVEY</td>\n",
       "      <td>CROPS</td>\n",
       "      <td>CORN</td>\n",
       "      <td>CONDITION</td>\n",
       "      <td>27</td>\n",
       "      <td>12</td>\n",
       "    </tr>\n",
       "  </tbody>\n",
       "</table>\n",
       "</div>"
      ],
      "text/plain": [
       "    year      state_name county_name  country_code commodity_desc  \\\n",
       "0   2021   WEST VIRGINIA         NaN          9000           CORN   \n",
       "1   2023    NORTH DAKOTA         NaN          9000           CORN   \n",
       "2   2023    NORTH DAKOTA         NaN          9000           CORN   \n",
       "3   2021        US TOTAL         NaN          9000           CORN   \n",
       "4   2021   NEW HAMPSHIRE         NaN          9000           CORN   \n",
       "5   2023        NEBRASKA         NaN          9000           CORN   \n",
       "6   2023    PENNSYLVANIA         NaN          9000           CORN   \n",
       "7   2021        ARKANSAS         NaN          9000           CORN   \n",
       "8   2021         INDIANA      WABASH          9000           CORN   \n",
       "9   2022       MINNESOTA         NaN          9000           CORN   \n",
       "10  2020        COLORADO         NaN          9000           CORN   \n",
       "11  2020            UTAH         NaN          9000           CORN   \n",
       "12  2022            OHIO         NaN          9000           CORN   \n",
       "13  2021            IOWA         NaN          9000           CORN   \n",
       "14  2020      WASHINGTON         NaN          9000           CORN   \n",
       "15  2020         MONTANA         NaN          9000           CORN   \n",
       "16  2023        COLORADO         NaN          9000           CORN   \n",
       "17  2023         VERMONT         NaN          9000           CORN   \n",
       "18  2023  NORTH CAROLINA         NaN          9000           CORN   \n",
       "19  2021      WASHINGTON         NaN          9000           CORN   \n",
       "20  2022        MICHIGAN         NaN          9000           CORN   \n",
       "\n",
       "     class_desc      unit_desc freq_desc   group_desc source_desc sector_desc  \\\n",
       "0   ALL CLASSES    PCT EMERGED    WEEKLY  FIELD CROPS      SURVEY       CROPS   \n",
       "1   ALL CLASSES             BU    ANNUAL  FIELD CROPS      SURVEY       CROPS   \n",
       "2   ALL CLASSES      PCT DOUGH    WEEKLY  FIELD CROPS      SURVEY       CROPS   \n",
       "3   ALL CLASSES       PCT FAIR    WEEKLY  FIELD CROPS      SURVEY       CROPS   \n",
       "4   ALL CLASSES       PCT POOR    WEEKLY  FIELD CROPS      SURVEY       CROPS   \n",
       "5   ALL CLASSES       PCT FAIR    WEEKLY  FIELD CROPS      SURVEY       CROPS   \n",
       "6   ALL CLASSES       PCT GOOD    WEEKLY  FIELD CROPS      SURVEY       CROPS   \n",
       "7   ALL CLASSES       PCT GOOD    WEEKLY  FIELD CROPS      SURVEY       CROPS   \n",
       "8   ALL CLASSES      BU / ACRE    ANNUAL  FIELD CROPS      SURVEY       CROPS   \n",
       "9   ALL CLASSES       PCT POOR    WEEKLY  FIELD CROPS      SURVEY       CROPS   \n",
       "10  ALL CLASSES    PCT PLANTED    WEEKLY  FIELD CROPS      SURVEY       CROPS   \n",
       "11  ALL CLASSES       PCT POOR    WEEKLY  FIELD CROPS      SURVEY       CROPS   \n",
       "12  ALL CLASSES  PCT EXCELLENT    WEEKLY  FIELD CROPS      SURVEY       CROPS   \n",
       "13  ALL CLASSES  PCT VERY POOR    WEEKLY  FIELD CROPS      SURVEY       CROPS   \n",
       "14  ALL CLASSES       PCT POOR    WEEKLY  FIELD CROPS      SURVEY       CROPS   \n",
       "15  ALL CLASSES  PCT VERY POOR    WEEKLY  FIELD CROPS      SURVEY       CROPS   \n",
       "16  ALL CLASSES      PCT DOUGH    WEEKLY  FIELD CROPS      SURVEY       CROPS   \n",
       "17  ALL CLASSES  PCT EXCELLENT    WEEKLY  FIELD CROPS      SURVEY       CROPS   \n",
       "18  ALL CLASSES  PCT HARVESTED    WEEKLY  FIELD CROPS      SURVEY       CROPS   \n",
       "19  ALL CLASSES  PCT HARVESTED    WEEKLY  FIELD CROPS      SURVEY       CROPS   \n",
       "20  ALL CLASSES  PCT EXCELLENT    WEEKLY  FIELD CROPS      SURVEY       CROPS   \n",
       "\n",
       "   commodity_desc.1         statisticcat_desc  begin_code        Value  \n",
       "0              CORN      PROGRESS, 5 YEAR AVG          18            7  \n",
       "1              CORN                PRODUCTION           0  516,120,000  \n",
       "2              CORN   PROGRESS, PREVIOUS YEAR          28            0  \n",
       "3              CORN  CONDITION, PREVIOUS YEAR          41           25  \n",
       "4              CORN  CONDITION, PREVIOUS YEAR          35           20  \n",
       "5              CORN     CONDITION, 5 YEAR AVG          35           21  \n",
       "6              CORN                 CONDITION          33           63  \n",
       "7              CORN     CONDITION, 5 YEAR AVG          30           47  \n",
       "8              CORN                     YIELD           0          189  \n",
       "9              CORN                 CONDITION          22            3  \n",
       "10             CORN      PROGRESS, 5 YEAR AVG          23           94  \n",
       "11             CORN     CONDITION, 5 YEAR AVG          28            1  \n",
       "12             CORN     CONDITION, 5 YEAR AVG          33           13  \n",
       "13             CORN     CONDITION, 5 YEAR AVG          41            4  \n",
       "14             CORN  CONDITION, PREVIOUS YEAR          28            0  \n",
       "15             CORN  CONDITION, PREVIOUS YEAR          28            0  \n",
       "16             CORN      PROGRESS, 5 YEAR AVG          29            4  \n",
       "17             CORN  CONDITION, PREVIOUS YEAR          40            0  \n",
       "18             CORN      PROGRESS, 5 YEAR AVG          39           93  \n",
       "19             CORN   PROGRESS, PREVIOUS YEAR          39           49  \n",
       "20             CORN                 CONDITION          27           12  "
      ]
     },
     "execution_count": 126,
     "metadata": {},
     "output_type": "execute_result"
    }
   ],
   "source": [
    "#Loading thecsv file\n",
    "data = pd.read_csv(\"crop_prices.csv\")\n",
    "\n",
    "#Displaying the first 20 records the csv file with header funvtion\n",
    "data.head(21)"
   ]
  },
  {
   "cell_type": "code",
   "execution_count": 127,
   "metadata": {},
   "outputs": [
    {
     "name": "stdout",
     "output_type": "stream",
     "text": [
      "DataFrame size (rows, columns): (200, 15)\n",
      "================================================\n",
      "<class 'pandas.core.frame.DataFrame'>\n",
      "RangeIndex: 200 entries, 0 to 199\n",
      "Data columns (total 15 columns):\n",
      " #   Column             Non-Null Count  Dtype \n",
      "---  ------             --------------  ----- \n",
      " 0   year               200 non-null    int64 \n",
      " 1   state_name         200 non-null    object\n",
      " 2   county_name        47 non-null     object\n",
      " 3   country_code       200 non-null    int64 \n",
      " 4   commodity_desc     200 non-null    object\n",
      " 5   class_desc         200 non-null    object\n",
      " 6   unit_desc          200 non-null    object\n",
      " 7   freq_desc          200 non-null    object\n",
      " 8   group_desc         200 non-null    object\n",
      " 9   source_desc        200 non-null    object\n",
      " 10  sector_desc        200 non-null    object\n",
      " 11  commodity_desc.1   200 non-null    object\n",
      " 12  statisticcat_desc  200 non-null    object\n",
      " 13  begin_code         200 non-null    int64 \n",
      " 14  Value              200 non-null    object\n",
      "dtypes: int64(3), object(12)\n",
      "memory usage: 23.6+ KB\n",
      "None\n"
     ]
    }
   ],
   "source": [
    "# Print the size of the DataFrame\n",
    "print(\"DataFrame size (rows, columns):\", data.shape)\n",
    "\n",
    "print(\"================================================\")\n",
    "\n",
    "#Display data information to see data type and nulls\n",
    "print(data.info())\n",
    "\n",
    "\n",
    "\n"
   ]
  },
  {
   "cell_type": "markdown",
   "metadata": {},
   "source": [
    "### Calculating Nulls in Each Column\n",
    "This cell calculates and prints the number of missing values in each column before any handling of null values.\n",
    "Only county_name has missing values\n"
   ]
  },
  {
   "cell_type": "code",
   "execution_count": 128,
   "metadata": {},
   "outputs": [
    {
     "name": "stdout",
     "output_type": "stream",
     "text": [
      "Number of missing values before handling nulls:\n",
      "year                   0\n",
      "state_name             0\n",
      "county_name          153\n",
      "country_code           0\n",
      "commodity_desc         0\n",
      "class_desc             0\n",
      "unit_desc              0\n",
      "freq_desc              0\n",
      "group_desc             0\n",
      "source_desc            0\n",
      "sector_desc            0\n",
      "commodity_desc.1       0\n",
      "statisticcat_desc      0\n",
      "begin_code             0\n",
      "Value                  0\n",
      "dtype: int64\n"
     ]
    }
   ],
   "source": [
    "#Calculating nulls in each columns\n",
    "print(\"Number of missing values before handling nulls:\")\n",
    "print(data.isnull().sum())"
   ]
  },
  {
   "cell_type": "markdown",
   "metadata": {},
   "source": [
    "### Unique Values in 'county_name' Column to see if we can replace it with most unique value\n",
    "This cell counts the number of unique values in the 'county_name' column, displays the counts of each unique value, and identifies the most frequent value.\n",
    "However the most frequent was MARION that appears two times which doesnot assume the other values should be replaced with that\n"
   ]
  },
  {
   "cell_type": "code",
   "execution_count": 129,
   "metadata": {},
   "outputs": [
    {
     "name": "stdout",
     "output_type": "stream",
     "text": [
      "Number of Unique Values: 44\n",
      "\n",
      "Unique Values and their Counts:\n",
      "county_name\n",
      "MARION            2\n",
      "SAUK              2\n",
      "SHELBY            2\n",
      "CHARLEVOIX        1\n",
      "WARREN            1\n",
      "WEBSTER           1\n",
      "NASH              1\n",
      "SUSSEX            1\n",
      "WASHINGTON        1\n",
      "BARRON            1\n",
      "YUMA              1\n",
      "YADKIN            1\n",
      "TODD              1\n",
      "WADENA            1\n",
      "CRAIG             1\n",
      "LEBANON           1\n",
      "FREDERICK         1\n",
      "KIDDER            1\n",
      "RENSSELAER        1\n",
      "SIOUX             1\n",
      "PAMLICO           1\n",
      "ROLETTE           1\n",
      "WABASH            1\n",
      "MARATHON          1\n",
      "FAYETTE           1\n",
      "CHESTERFIELD      1\n",
      "BLACK HAWK        1\n",
      "WOODSON           1\n",
      "VAN BUREN         1\n",
      "MORGAN            1\n",
      "CASS              1\n",
      "GREENE            1\n",
      "YORK              1\n",
      "FOND DU LAC       1\n",
      "JACKSON           1\n",
      "SAN PATRICIO      1\n",
      "DEUEL             1\n",
      "MARSHALL          1\n",
      "BARNES            1\n",
      "OSBORNE           1\n",
      "LINN              1\n",
      "DANE              1\n",
      "EMMONS            1\n",
      "OTHER COUNTIES    1\n",
      "Name: count, dtype: int64\n",
      "\n",
      "Most Frequent Value: MARION\n"
     ]
    }
   ],
   "source": [
    "# Count the number of unique values in the 'county_name' column\n",
    "num_unique_values = data['county_name'].nunique()\n",
    "\n",
    "# Count the occurrences of each unique value in the 'county_name' column\n",
    "unique_counts = data['county_name'].value_counts()\n",
    "\n",
    "# Extract the most frequent value\n",
    "most_frequent_value = unique_counts.idxmax()\n",
    "\n",
    "print(\"Number of Unique Values:\", num_unique_values)\n",
    "print(\"\\nUnique Values and their Counts:\")\n",
    "print(unique_counts)\n",
    "print(\"\\nMost Frequent Value:\", most_frequent_value)"
   ]
  },
  {
   "cell_type": "markdown",
   "metadata": {},
   "source": [
    "### Replacing Missing Values in 'county_name' Column\n",
    "This cell replaces missing values in the 'county_name' column with random non-missing values from the same column since most frequent value cant be used\n"
   ]
  },
  {
   "cell_type": "code",
   "execution_count": 130,
   "metadata": {},
   "outputs": [
    {
     "name": "stdout",
     "output_type": "stream",
     "text": [
      "Coumn name successfully updated\n",
      "================================================\n",
      "Number of missing values after handling nulls:\n",
      "year                 0\n",
      "state_name           0\n",
      "county_name          0\n",
      "country_code         0\n",
      "commodity_desc       0\n",
      "class_desc           0\n",
      "unit_desc            0\n",
      "freq_desc            0\n",
      "group_desc           0\n",
      "source_desc          0\n",
      "sector_desc          0\n",
      "commodity_desc.1     0\n",
      "statisticcat_desc    0\n",
      "begin_code           0\n",
      "Value                0\n",
      "dtype: int64\n"
     ]
    }
   ],
   "source": [
    "# Replace None with NaN\n",
    "data['county_name'] = data['county_name'].replace({None: np.nan})\n",
    "\n",
    "# Get non-missing values\n",
    "non_missing_values = data['county_name'].dropna().unique()\n",
    "\n",
    "# Fill missing values with randomly selected non-missing values\n",
    "for index, row in data.iterrows():\n",
    "    if pd.isnull(row['county_name']):\n",
    "        data.at[index, 'county_name'] = random.choice(non_missing_values)\n",
    "\n",
    "print(\"Column name successfully updated\")\n",
    "\n",
    "print(\"================================================\")\n",
    "\n",
    "#Calculating nulls in each columns after handling null values\n",
    "print(\"Number of missing values after handling nulls:\")\n",
    "print(data.isnull().sum())"
   ]
  },
  {
   "cell_type": "markdown",
   "metadata": {},
   "source": [
    "### Checking for Duplicates in DataFrame\n",
    "This cell checks for duplicate rows in the DataFrame and prints the duplicate rows if any.\n"
   ]
  },
  {
   "cell_type": "code",
   "execution_count": 131,
   "metadata": {},
   "outputs": [
    {
     "name": "stdout",
     "output_type": "stream",
     "text": [
      "Number of duplicate rows: 0\n",
      "\n",
      "All duplicate rows:\n",
      "Empty DataFrame\n",
      "Columns: [year, state_name, county_name, country_code, commodity_desc, class_desc, unit_desc, freq_desc, group_desc, source_desc, sector_desc, commodity_desc.1, statisticcat_desc, begin_code, Value]\n",
      "Index: []\n"
     ]
    }
   ],
   "source": [
    "# Find duplicate rows based on all columns\n",
    "duplicates = data.duplicated(keep=False)\n",
    "\n",
    "# Count all rows that are duplicates\n",
    "duplicate_count = duplicates.sum()\n",
    "\n",
    "print(f\"Number of duplicate rows: {duplicate_count}\")\n",
    "\n",
    "# If you want to see all duplicate rows together\n",
    "print(\"\\nAll duplicate rows:\")\n",
    "print(data[duplicates])"
   ]
  },
  {
   "cell_type": "markdown",
   "metadata": {},
   "source": [
    "### Display Unique Values in a Specific Column\n",
    "This cell displays all unique values in the 'county_name' column.\n",
    "This is to check for values that are not supposed to be in a particular column which end up chaning thier data type for example in The value column is of type object instead of integer of float\n"
   ]
  },
  {
   "cell_type": "code",
   "execution_count": 132,
   "metadata": {},
   "outputs": [
    {
     "name": "stdout",
     "output_type": "stream",
     "text": [
      "Unique values in 'Value' column: ['7' '516,120,000' '0' '25' '20' '21' '63' '47' '189' '3' '94' '1' '13'\n",
      " '4' '93' '49' '12' '65' '5' '84' '565,000' '60' '3,500,000' '62'\n",
      " '26,562,000' '30' '19' '61' '63.4' '73' '45' '17' '700' '7,026,000' '82'\n",
      " '18' '48' '37' '375,000' '46' '5,200' '23' '223,500' '918,000'\n",
      " '87,096,000' '15.8' '99' '34' '150' '51,900' '48,000' '53' '3,883,000'\n",
      " '84.6' '16,400' '15' '147,500' '                 (D)' '196,600' '97.4'\n",
      " '7,053,000' '44' '8' '6' '147,000' '26.5' '10' '71' '144.8' '7,470' '95'\n",
      " '405,000' '87' '13,413,000' '1,158,000' '72' '174,000' '45,000' '14' '31'\n",
      " '29' '3,690' '1,449,000' '24' '66' '2' '16,214,000' '20,600' '16,500'\n",
      " '4.64' '96' '187.6' '11,100' '84,500' '164.3' '281,000' '516,000' '90'\n",
      " '114.7' '3,640' '11' '201.8' '-1' '16,100' '13,200' '22' '89' '2,040'\n",
      " '1,880' '49,500' '170.7']\n"
     ]
    }
   ],
   "source": [
    "# Get unique values in the 'county_name' column\n",
    "unique_values = data['Value'].unique()\n",
    "\n",
    "# Print unique values\n",
    "print(f\"Unique values in 'Value' column: {unique_values}\")"
   ]
  },
  {
   "cell_type": "markdown",
   "metadata": {},
   "source": [
    "### Removing Rows with Non-Integer Values in 'Value' Column\n",
    "This cell removes rows where the 'Value' column contains non-integer values.\n",
    "### Removing Commas and Converting to Float\n",
    "This cell removes commas from the 'Value' column and converts the values to float. Rows with errors in conversion are coerced to NaN.\n",
    "### Removing Rows with NaN Values in 'Value' Column\n",
    "This cell removes rows where the 'Value' column has NaN values.\n",
    "### Checking Data Type of 'Value' Column\n",
    "This cell checks and prints the data type of the 'Value' column it it is changed.\n"
   ]
  },
  {
   "cell_type": "code",
   "execution_count": 133,
   "metadata": {},
   "outputs": [
    {
     "name": "stdout",
     "output_type": "stream",
     "text": [
      "Data type of 'Value' column: float64\n",
      "Unique values in 'Value' column: [ 7.0000e+00  5.1612e+08  0.0000e+00  2.5000e+01  2.0000e+01  2.1000e+01\n",
      "  6.3000e+01  4.7000e+01  1.8900e+02  3.0000e+00  9.4000e+01  1.0000e+00\n",
      "  1.3000e+01  4.0000e+00  9.3000e+01  4.9000e+01  1.2000e+01  6.5000e+01\n",
      "  5.0000e+00  8.4000e+01  5.6500e+05  6.0000e+01  3.5000e+06  6.2000e+01\n",
      "  2.6562e+07  3.0000e+01  1.9000e+01  6.1000e+01  6.3400e+01  7.3000e+01\n",
      "  4.5000e+01  1.7000e+01  7.0000e+02  7.0260e+06  8.2000e+01  1.8000e+01\n",
      "  4.8000e+01  3.7000e+01  3.7500e+05  4.6000e+01  5.2000e+03  2.3000e+01\n",
      "  2.2350e+05  9.1800e+05  8.7096e+07  1.5800e+01  9.9000e+01  3.4000e+01\n",
      "  1.5000e+02  5.1900e+04  4.8000e+04  5.3000e+01  3.8830e+06  8.4600e+01\n",
      "  1.6400e+04  1.5000e+01  1.4750e+05  1.9660e+05  9.7400e+01  7.0530e+06\n",
      "  4.4000e+01  8.0000e+00  6.0000e+00  1.4700e+05  2.6500e+01  1.0000e+01\n",
      "  7.1000e+01  1.4480e+02  7.4700e+03  9.5000e+01  4.0500e+05  8.7000e+01\n",
      "  1.3413e+07  1.1580e+06  7.2000e+01  1.7400e+05  4.5000e+04  1.4000e+01\n",
      "  3.1000e+01  2.9000e+01  3.6900e+03  1.4490e+06  2.4000e+01  6.6000e+01\n",
      "  2.0000e+00  1.6214e+07  2.0600e+04  1.6500e+04  4.6400e+00  9.6000e+01\n",
      "  1.8760e+02  1.1100e+04  8.4500e+04  1.6430e+02  2.8100e+05  5.1600e+05\n",
      "  9.0000e+01  1.1470e+02  3.6400e+03  1.1000e+01  2.0180e+02 -1.0000e+00\n",
      "  1.6100e+04  1.3200e+04  2.2000e+01  8.9000e+01  2.0400e+03  1.8800e+03\n",
      "  4.9500e+04  1.7070e+02]\n"
     ]
    }
   ],
   "source": [
    "# Convert 'Value' column to string and then remove commas and convert to float, coerce errors to NaN\n",
    "data['Value'] = pd.to_numeric(data['Value'].astype(str).str.replace(',', ''), errors='coerce')\n",
    "\n",
    "# Remove rows with NaN values specifically in the 'Value' column\n",
    "data = data.dropna(subset=['Value'])\n",
    "\n",
    "# Check the data type of the 'Value' column\n",
    "value_column_dtype = data['Value'].dtype\n",
    "\n",
    "# Display the data type\n",
    "print(\"Data type of 'Value' column:\", value_column_dtype)\n",
    "\n",
    "# Get unique values in the 'county_name' column\n",
    "unique_values_after = data['Value'].unique()\n",
    "\n",
    "# Print unique values\n",
    "print(f\"Unique values in 'Value' column: {unique_values_after}\")"
   ]
  },
  {
   "cell_type": "markdown",
   "metadata": {},
   "source": [
    "### Displaying Updated DataFrame Info and Shape\n",
    "This cell displays information about the DataFrame, including data types, non-null values, and shape.\n"
   ]
  },
  {
   "cell_type": "code",
   "execution_count": 134,
   "metadata": {},
   "outputs": [
    {
     "name": "stdout",
     "output_type": "stream",
     "text": [
      "DataFrame Shape: (197, 15)\n",
      "\n",
      "DataFrame Info:\n",
      "<class 'pandas.core.frame.DataFrame'>\n",
      "Index: 197 entries, 0 to 199\n",
      "Data columns (total 15 columns):\n",
      " #   Column             Non-Null Count  Dtype  \n",
      "---  ------             --------------  -----  \n",
      " 0   year               197 non-null    int64  \n",
      " 1   state_name         197 non-null    object \n",
      " 2   county_name        197 non-null    object \n",
      " 3   country_code       197 non-null    int64  \n",
      " 4   commodity_desc     197 non-null    object \n",
      " 5   class_desc         197 non-null    object \n",
      " 6   unit_desc          197 non-null    object \n",
      " 7   freq_desc          197 non-null    object \n",
      " 8   group_desc         197 non-null    object \n",
      " 9   source_desc        197 non-null    object \n",
      " 10  sector_desc        197 non-null    object \n",
      " 11  commodity_desc.1   197 non-null    object \n",
      " 12  statisticcat_desc  197 non-null    object \n",
      " 13  begin_code         197 non-null    int64  \n",
      " 14  Value              197 non-null    float64\n",
      "dtypes: float64(1), int64(3), object(11)\n",
      "memory usage: 24.6+ KB\n",
      "None\n"
     ]
    }
   ],
   "source": [
    "# Display the shape of the DataFrame\n",
    "print(\"DataFrame Shape:\", data.shape)\n",
    "\n",
    "# Display information about the DataFrame\n",
    "print(\"\\nDataFrame Info:\")\n",
    "print(data.info())\n",
    "\n"
   ]
  },
  {
   "cell_type": "markdown",
   "metadata": {},
   "source": [
    "### Display Unique Values for Each Column\n",
    "This cell displays all unique values for each column in the DataFrame.\n"
   ]
  },
  {
   "cell_type": "code",
   "execution_count": 135,
   "metadata": {},
   "outputs": [
    {
     "name": "stdout",
     "output_type": "stream",
     "text": [
      "\n",
      "Unique values in column 'year': [2021 2023 2022 2020]\n",
      "\n",
      "Unique values in column 'state_name': ['WEST VIRGINIA' 'NORTH DAKOTA' 'US TOTAL' 'NEW HAMPSHIRE' 'NEBRASKA'\n",
      " 'PENNSYLVANIA' 'ARKANSAS' 'INDIANA' 'MINNESOTA' 'COLORADO' 'UTAH' 'OHIO'\n",
      " 'IOWA' 'WASHINGTON' 'MONTANA' 'VERMONT' 'NORTH CAROLINA' 'MICHIGAN'\n",
      " 'GEORGIA' 'OKLAHOMA' 'TENNESSEE' 'LOUISIANA' 'MASSACHUSETTS'\n",
      " 'CONNECTICUT' 'KENTUCKY' 'OREGON' 'MARYLAND' 'SOUTH DAKOTA' 'MISSISSIPPI'\n",
      " 'KANSAS' 'WYOMING' 'ILLINOIS' 'WISCONSIN' 'SOUTH CAROLINA' 'NEW JERSEY'\n",
      " 'NEW YORK' 'DELAWARE' 'MISSOURI' 'IDAHO' 'TEXAS' 'RHODE ISLAND'\n",
      " 'VIRGINIA' 'NEW MEXICO' 'MAINE']\n",
      "\n",
      "Unique values in column 'county_name': ['SIOUX' 'SAUK' 'GREENE' 'KIDDER' 'OSBORNE' 'YORK' 'MARION' 'WABASH'\n",
      " 'BARNES' 'CRAIG' 'SAN PATRICIO' 'JACKSON' 'YADKIN' 'WARREN' 'VAN BUREN'\n",
      " 'BARRON' 'OTHER COUNTIES' 'NASH' 'BLACK HAWK' 'TODD' 'WASHINGTON'\n",
      " 'WADENA' 'SHELBY' 'RENSSELAER' 'ROLETTE' 'FAYETTE' 'WOODSON' 'WEBSTER'\n",
      " 'DEUEL' 'CHARLEVOIX' 'YUMA' 'MORGAN' 'CASS' 'FOND DU LAC' 'DANE'\n",
      " 'CHESTERFIELD' 'MARSHALL' 'SUSSEX' 'LINN' 'LEBANON' 'EMMONS' 'MARATHON'\n",
      " 'FREDERICK' 'PAMLICO']\n",
      "\n",
      "Unique values in column 'country_code': [9000]\n",
      "\n",
      "Unique values in column 'commodity_desc': ['CORN']\n",
      "\n",
      "Unique values in column 'class_desc': ['ALL CLASSES']\n",
      "\n",
      "Unique values in column 'unit_desc': ['PCT EMERGED' 'BU' 'PCT DOUGH' 'PCT FAIR' 'PCT POOR' 'PCT GOOD'\n",
      " 'BU / ACRE' 'PCT PLANTED' 'PCT EXCELLENT' 'PCT VERY POOR' 'PCT HARVESTED'\n",
      " 'PCT MATURE' 'ACRES' 'PCT SILKING' 'PCT DENTED' 'TONS'\n",
      " 'PCT BY SIZE GROUP' 'TONS / ACRE' 'NUMBER' '$ / BU' 'PCT BY TYPE']\n",
      "\n",
      "Unique values in column 'freq_desc': ['WEEKLY' 'ANNUAL' 'MONTHLY']\n",
      "\n",
      "Unique values in column 'group_desc': ['FIELD CROPS']\n",
      "\n",
      "Unique values in column 'source_desc': ['SURVEY']\n",
      "\n",
      "Unique values in column 'sector_desc': ['CROPS']\n",
      "\n",
      "Unique values in column 'commodity_desc.1': ['CORN']\n",
      "\n",
      "Unique values in column 'statisticcat_desc': ['PROGRESS, 5 YEAR AVG' 'PRODUCTION' 'PROGRESS, PREVIOUS YEAR'\n",
      " 'CONDITION, PREVIOUS YEAR' 'CONDITION, 5 YEAR AVG' 'CONDITION' 'YIELD'\n",
      " 'PROGRESS' 'AREA HARVESTED' 'AREA PLANTED' 'USAGE' 'SAMPLES'\n",
      " 'PRICE RECEIVED']\n",
      "\n",
      "Unique values in column 'begin_code': [18  0 28 41 35 33 30 22 23 29 40 39 27 38 24 36 37 32 31 25 21 34 17 10\n",
      " 45 26 20 16 42 46 14]\n",
      "\n",
      "Unique values in column 'Value': [ 7.0000e+00  5.1612e+08  0.0000e+00  2.5000e+01  2.0000e+01  2.1000e+01\n",
      "  6.3000e+01  4.7000e+01  1.8900e+02  3.0000e+00  9.4000e+01  1.0000e+00\n",
      "  1.3000e+01  4.0000e+00  9.3000e+01  4.9000e+01  1.2000e+01  6.5000e+01\n",
      "  5.0000e+00  8.4000e+01  5.6500e+05  6.0000e+01  3.5000e+06  6.2000e+01\n",
      "  2.6562e+07  3.0000e+01  1.9000e+01  6.1000e+01  6.3400e+01  7.3000e+01\n",
      "  4.5000e+01  1.7000e+01  7.0000e+02  7.0260e+06  8.2000e+01  1.8000e+01\n",
      "  4.8000e+01  3.7000e+01  3.7500e+05  4.6000e+01  5.2000e+03  2.3000e+01\n",
      "  2.2350e+05  9.1800e+05  8.7096e+07  1.5800e+01  9.9000e+01  3.4000e+01\n",
      "  1.5000e+02  5.1900e+04  4.8000e+04  5.3000e+01  3.8830e+06  8.4600e+01\n",
      "  1.6400e+04  1.5000e+01  1.4750e+05  1.9660e+05  9.7400e+01  7.0530e+06\n",
      "  4.4000e+01  8.0000e+00  6.0000e+00  1.4700e+05  2.6500e+01  1.0000e+01\n",
      "  7.1000e+01  1.4480e+02  7.4700e+03  9.5000e+01  4.0500e+05  8.7000e+01\n",
      "  1.3413e+07  1.1580e+06  7.2000e+01  1.7400e+05  4.5000e+04  1.4000e+01\n",
      "  3.1000e+01  2.9000e+01  3.6900e+03  1.4490e+06  2.4000e+01  6.6000e+01\n",
      "  2.0000e+00  1.6214e+07  2.0600e+04  1.6500e+04  4.6400e+00  9.6000e+01\n",
      "  1.8760e+02  1.1100e+04  8.4500e+04  1.6430e+02  2.8100e+05  5.1600e+05\n",
      "  9.0000e+01  1.1470e+02  3.6400e+03  1.1000e+01  2.0180e+02 -1.0000e+00\n",
      "  1.6100e+04  1.3200e+04  2.2000e+01  8.9000e+01  2.0400e+03  1.8800e+03\n",
      "  4.9500e+04  1.7070e+02]\n"
     ]
    }
   ],
   "source": [
    "# Display unique values for each column\n",
    "for column in data.columns:\n",
    "    unique_values = data[column].unique()\n",
    "    print(f\"\\nUnique values in column '{column}': {unique_values}\")"
   ]
  },
  {
   "cell_type": "markdown",
   "metadata": {},
   "source": [
    "### Removing Columns with a Single Repeated Value\n",
    "This cell removes columns where all values are identical since they dont affect any other column during visulization\n"
   ]
  },
  {
   "cell_type": "code",
   "execution_count": 136,
   "metadata": {},
   "outputs": [
    {
     "name": "stdout",
     "output_type": "stream",
     "text": [
      "Modified DataFrame:\n"
     ]
    },
    {
     "data": {
      "text/html": [
       "<div>\n",
       "<style scoped>\n",
       "    .dataframe tbody tr th:only-of-type {\n",
       "        vertical-align: middle;\n",
       "    }\n",
       "\n",
       "    .dataframe tbody tr th {\n",
       "        vertical-align: top;\n",
       "    }\n",
       "\n",
       "    .dataframe thead th {\n",
       "        text-align: right;\n",
       "    }\n",
       "</style>\n",
       "<table border=\"1\" class=\"dataframe\">\n",
       "  <thead>\n",
       "    <tr style=\"text-align: right;\">\n",
       "      <th></th>\n",
       "      <th>year</th>\n",
       "      <th>state_name</th>\n",
       "      <th>county_name</th>\n",
       "      <th>unit_desc</th>\n",
       "      <th>freq_desc</th>\n",
       "      <th>statisticcat_desc</th>\n",
       "      <th>begin_code</th>\n",
       "      <th>Value</th>\n",
       "    </tr>\n",
       "  </thead>\n",
       "  <tbody>\n",
       "    <tr>\n",
       "      <th>0</th>\n",
       "      <td>2021</td>\n",
       "      <td>WEST VIRGINIA</td>\n",
       "      <td>SIOUX</td>\n",
       "      <td>PCT EMERGED</td>\n",
       "      <td>WEEKLY</td>\n",
       "      <td>PROGRESS, 5 YEAR AVG</td>\n",
       "      <td>18</td>\n",
       "      <td>7.0</td>\n",
       "    </tr>\n",
       "    <tr>\n",
       "      <th>1</th>\n",
       "      <td>2023</td>\n",
       "      <td>NORTH DAKOTA</td>\n",
       "      <td>SAUK</td>\n",
       "      <td>BU</td>\n",
       "      <td>ANNUAL</td>\n",
       "      <td>PRODUCTION</td>\n",
       "      <td>0</td>\n",
       "      <td>516120000.0</td>\n",
       "    </tr>\n",
       "    <tr>\n",
       "      <th>2</th>\n",
       "      <td>2023</td>\n",
       "      <td>NORTH DAKOTA</td>\n",
       "      <td>GREENE</td>\n",
       "      <td>PCT DOUGH</td>\n",
       "      <td>WEEKLY</td>\n",
       "      <td>PROGRESS, PREVIOUS YEAR</td>\n",
       "      <td>28</td>\n",
       "      <td>0.0</td>\n",
       "    </tr>\n",
       "    <tr>\n",
       "      <th>3</th>\n",
       "      <td>2021</td>\n",
       "      <td>US TOTAL</td>\n",
       "      <td>KIDDER</td>\n",
       "      <td>PCT FAIR</td>\n",
       "      <td>WEEKLY</td>\n",
       "      <td>CONDITION, PREVIOUS YEAR</td>\n",
       "      <td>41</td>\n",
       "      <td>25.0</td>\n",
       "    </tr>\n",
       "    <tr>\n",
       "      <th>4</th>\n",
       "      <td>2021</td>\n",
       "      <td>NEW HAMPSHIRE</td>\n",
       "      <td>OSBORNE</td>\n",
       "      <td>PCT POOR</td>\n",
       "      <td>WEEKLY</td>\n",
       "      <td>CONDITION, PREVIOUS YEAR</td>\n",
       "      <td>35</td>\n",
       "      <td>20.0</td>\n",
       "    </tr>\n",
       "  </tbody>\n",
       "</table>\n",
       "</div>"
      ],
      "text/plain": [
       "   year     state_name county_name    unit_desc freq_desc  \\\n",
       "0  2021  WEST VIRGINIA       SIOUX  PCT EMERGED    WEEKLY   \n",
       "1  2023   NORTH DAKOTA        SAUK           BU    ANNUAL   \n",
       "2  2023   NORTH DAKOTA      GREENE    PCT DOUGH    WEEKLY   \n",
       "3  2021       US TOTAL      KIDDER     PCT FAIR    WEEKLY   \n",
       "4  2021  NEW HAMPSHIRE     OSBORNE     PCT POOR    WEEKLY   \n",
       "\n",
       "          statisticcat_desc  begin_code        Value  \n",
       "0      PROGRESS, 5 YEAR AVG          18          7.0  \n",
       "1                PRODUCTION           0  516120000.0  \n",
       "2   PROGRESS, PREVIOUS YEAR          28          0.0  \n",
       "3  CONDITION, PREVIOUS YEAR          41         25.0  \n",
       "4  CONDITION, PREVIOUS YEAR          35         20.0  "
      ]
     },
     "execution_count": 136,
     "metadata": {},
     "output_type": "execute_result"
    }
   ],
   "source": [
    "# Remove columns with a single repeated value\n",
    "for column in data.columns:\n",
    "    if len(data[column].unique()) == 1:\n",
    "        data.drop(column, axis=1, inplace=True)\n",
    "\n",
    "# Display the modified DataFrame\n",
    "print(\"Modified DataFrame:\")\n",
    "data.head()"
   ]
  },
  {
   "cell_type": "markdown",
   "metadata": {},
   "source": [
    "### Counting Zeros in Each Column\n",
    "This cell counts and prints the number of zeros in each column of the DataFrame.\n",
    "It is essential as zeros affect the data during visualization"
   ]
  },
  {
   "cell_type": "code",
   "execution_count": 137,
   "metadata": {},
   "outputs": [
    {
     "name": "stdout",
     "output_type": "stream",
     "text": [
      "Number of zeros in each column:\n",
      "year                  0\n",
      "state_name            0\n",
      "county_name           0\n",
      "unit_desc             0\n",
      "freq_desc             0\n",
      "statisticcat_desc     0\n",
      "begin_code           55\n",
      "Value                16\n",
      "dtype: int64\n"
     ]
    }
   ],
   "source": [
    "# Count zeros in each column\n",
    "zero_counts = data.eq(0).sum()\n",
    "\n",
    "# Display the counts\n",
    "print(\"Number of zeros in each column:\")\n",
    "print(zero_counts)"
   ]
  },
  {
   "cell_type": "markdown",
   "metadata": {},
   "source": [
    "### Replacing Zeros with median Value in Value column\n",
    "This cell replaces zeros in  Value column with the median value.\n",
    "This is because the mean and mode are not appropriate as seen below\n"
   ]
  },
  {
   "cell_type": "code",
   "execution_count": 138,
   "metadata": {},
   "outputs": [
    {
     "name": "stdout",
     "output_type": "stream",
     "text": [
      "Number of zeros in 'Value' column before replacement:\n",
      "16\n",
      "Mean of the 'Value' column: 3491500.1991878175\n",
      "Median of the 'Value' column: 26.5\n",
      "Mode of the 'Value' column: 0.0\n",
      "Number of zeros in 'Value' column after replacement:\n",
      "0\n"
     ]
    }
   ],
   "source": [
    "# Verify if there are any zero values before replacement\n",
    "print(\"Number of zeros in 'Value' column before replacement:\")\n",
    "print((data['Value'] == 0).sum())\n",
    "\n",
    "# Calculate the mean, median, and mode of the 'Value' column\n",
    "value_mean = data['Value'].mean()\n",
    "value_median = data['Value'].median()\n",
    "value_mode = data['Value'].mode()[0]\n",
    "\n",
    "print(f\"Mean of the 'Value' column: {value_mean}\")\n",
    "print(f\"Median of the 'Value' column: {value_median}\")\n",
    "print(f\"Mode of the 'Value' column: {value_mode}\")\n",
    "\n",
    "# Replace zeros in 'Value' column with the mean value\n",
    "data['Value'] = data['Value'].replace(0, value_median)\n",
    "\n",
    "# Verify replacement\n",
    "print(\"Number of zeros in 'Value' column after replacement:\")\n",
    "print((data['Value'] == 0).sum())"
   ]
  },
  {
   "cell_type": "markdown",
   "metadata": {},
   "source": [
    "### Replacing Zeros with mean Value in begin_code column\n",
    "This cell replaces zeros in  Value column with the mean value.\n",
    "This is because the mode and moedian are not appropriate as seen below\n"
   ]
  },
  {
   "cell_type": "code",
   "execution_count": 139,
   "metadata": {},
   "outputs": [
    {
     "name": "stdout",
     "output_type": "stream",
     "text": [
      "Number of zeros in 'begin_code' column before replacement:\n",
      "55\n",
      "Mean of the 'begin_code' column: 22.248730964467004\n",
      "Median of the 'begin_code' column: 28.0\n",
      "Mode of the 'begin_code' column: 0\n",
      "Number of zeros in 'begin_code' column after replacement:\n",
      "0\n"
     ]
    }
   ],
   "source": [
    "# Verify if there are any zero values before replacement\n",
    "print(\"Number of zeros in 'begin_code' column before replacement:\")\n",
    "print((data['begin_code'] == 0).sum())\n",
    "\n",
    "# Calculate the mean, median, and mode of the 'begin_code' column\n",
    "begin_code_mean = data['begin_code'].mean()\n",
    "begin_code_median = data['begin_code'].median()\n",
    "begin_code_mode = data['begin_code'].mode()[0]\n",
    "\n",
    "print(f\"Mean of the 'begin_code' column: {begin_code_mean}\")\n",
    "print(f\"Median of the 'begin_code' column: {begin_code_median}\")\n",
    "print(f\"Mode of the 'begin_code' column: {begin_code_mode}\")\n",
    "\n",
    "# Replace zeros in 'begin_code' column with the mean value\n",
    "data['begin_code'] = data['begin_code'].replace(0, begin_code_mean)\n",
    "\n",
    "# Verify replacement\n",
    "print(\"Number of zeros in 'begin_code' column after replacement:\")\n",
    "print((data['begin_code'] == 0).sum())"
   ]
  },
  {
   "cell_type": "markdown",
   "metadata": {},
   "source": [
    "### Confirm that no zeros left"
   ]
  },
  {
   "cell_type": "code",
   "execution_count": 140,
   "metadata": {},
   "outputs": [
    {
     "name": "stdout",
     "output_type": "stream",
     "text": [
      "Number of zeros in each column:\n",
      "year                 0\n",
      "state_name           0\n",
      "county_name          0\n",
      "unit_desc            0\n",
      "freq_desc            0\n",
      "statisticcat_desc    0\n",
      "begin_code           0\n",
      "Value                0\n",
      "dtype: int64\n"
     ]
    }
   ],
   "source": [
    "# Count zeros in each column\n",
    "zero_counts = data.eq(0).sum()\n",
    "\n",
    "# Display the counts\n",
    "print(\"Number of zeros in each column:\")\n",
    "print(zero_counts)"
   ]
  },
  {
   "cell_type": "markdown",
   "metadata": {},
   "source": [
    "### Displaying DataFrame Info and Shape\n",
    "This cell displays information about the DataFrame, including data types, non-null values, and shape.\n",
    "And thus the dataset is ready for visualization"
   ]
  },
  {
   "cell_type": "code",
   "execution_count": 141,
   "metadata": {},
   "outputs": [
    {
     "name": "stdout",
     "output_type": "stream",
     "text": [
      "<class 'pandas.core.frame.DataFrame'>\n",
      "Index: 197 entries, 0 to 199\n",
      "Data columns (total 8 columns):\n",
      " #   Column             Non-Null Count  Dtype  \n",
      "---  ------             --------------  -----  \n",
      " 0   year               197 non-null    int64  \n",
      " 1   state_name         197 non-null    object \n",
      " 2   county_name        197 non-null    object \n",
      " 3   unit_desc          197 non-null    object \n",
      " 4   freq_desc          197 non-null    object \n",
      " 5   statisticcat_desc  197 non-null    object \n",
      " 6   begin_code         197 non-null    float64\n",
      " 7   Value              197 non-null    float64\n",
      "dtypes: float64(2), int64(1), object(5)\n",
      "memory usage: 13.9+ KB\n"
     ]
    }
   ],
   "source": [
    "data.info()"
   ]
  },
  {
   "cell_type": "markdown",
   "metadata": {},
   "source": [
    "### Summary Statistics\n",
    "This cell calculates and displays summary statistics of the dataset to provide an overview of its properties.\n"
   ]
  },
  {
   "cell_type": "code",
   "execution_count": 142,
   "metadata": {},
   "outputs": [
    {
     "name": "stdout",
     "output_type": "stream",
     "text": [
      "              year  begin_code         Value\n",
      "count   197.000000  197.000000  1.970000e+02\n",
      "mean   2021.563452   28.460306  3.491502e+06\n",
      "std       1.130416    7.273975  3.731035e+07\n",
      "min    2020.000000   10.000000 -1.000000e+00\n",
      "25%    2021.000000   22.248731  1.300000e+01\n",
      "50%    2022.000000   28.000000  2.650000e+01\n",
      "75%    2023.000000   34.000000  9.900000e+01\n",
      "max    2023.000000   46.000000  5.161200e+08\n"
     ]
    }
   ],
   "source": [
    "# Basic statistics\n",
    "print(data.describe())"
   ]
  },
  {
   "cell_type": "markdown",
   "metadata": {},
   "source": [
    "### Correlation Matrix and Heatmap for Numeric Columns\n",
    "This cell filters the DataFrame to include only numeric columns, then calculates the correlation matrix for these columns. A heatmap is generated to visually represent the correlation matrix. The heatmap uses a color gradient ('coolwarm') to show the strength of correlations between pairs of numeric columns, with annotations to display the exact correlation values. This visualization helps identify relationships and dependencies between numeric features in the dataset.\n"
   ]
  },
  {
   "cell_type": "code",
   "execution_count": 143,
   "metadata": {},
   "outputs": [
    {
     "data": {
      "image/png": "[encoded data removed]",
      "text/plain": [
       "<Figure size 1000x800 with 2 Axes>"
      ]
     },
     "metadata": {},
     "output_type": "display_data"
    }
   ],
   "source": [
    "# Filter only numeric columns for correlation matrix\n",
    "numeric_df = data.select_dtypes(include=[np.number])\n",
    "\n",
    "# Correlation matrix and heatmap\n",
    "correlation_matrix = numeric_df.corr()\n",
    "plt.figure(figsize=(10, 8))\n",
    "sns.heatmap(correlation_matrix, annot=True, cmap='coolwarm', linewidths=0.5)\n",
    "plt.title('Correlation Matrix Heatmap')\n",
    "plt.show()"
   ]
  },
  {
   "cell_type": "markdown",
   "metadata": {},
   "source": [
    "### Scatter Plot of Year vs Value\n",
    "This cell performs several operations to ensure the data is properly formatted and clean before generating a scatter plot:\n",
    "\n",
    "1. **Check and Adjust Year Column Name:** The cell first checks if the 'year' column exists in the DataFrame. If not, it tries 'Year' as another common variant.\n",
    "2. **Convert Columns to Numeric:** Both the 'year' and 'Value' columns are converted to numeric types, coercing errors to NaN. This ensures that any non-numeric values are handled appropriately.\n",
    "3. **Drop Rows with NaN Values:** Rows with NaN values in either the 'year' or 'Value' columns are dropped. This ensures that the data used for the scatter plot is clean and valid.\n",
    "4. **Generate Scatter Plot:** A scatter plot is created using seaborn to visualize the relationship between the 'year' and 'Value' columns. The plot is titled and labeled appropriately.\n",
    "\n",
    "This visualization helps in identifying trends and patterns in the 'Value' data over the years.\n"
   ]
  },
  {
   "cell_type": "code",
   "execution_count": 144,
   "metadata": {},
   "outputs": [
    {
     "data": {
      "image/png": "[encoded data removed]",
      "text/plain": [
       "<Figure size 1000x600 with 1 Axes>"
      ]
     },
     "metadata": {},
     "output_type": "display_data"
    }
   ],
   "source": [
    "year_column = 'year'  # Adjust if the actual column name is different\n",
    "if year_column not in data.columns:\n",
    "    year_column = 'Year'  # Another common variant\n",
    "\n",
    "data[year_column] = pd.to_numeric(data[year_column], errors='coerce')\n",
    "data['Value'] = pd.to_numeric(data['Value'], errors='coerce')\n",
    "\n",
    "# Drop rows with NaN values in 'year' or 'Value' after conversion\n",
    "data = data.dropna(subset=[year_column, 'Value'])\n",
    "\n",
    "# Scatter plot\n",
    "plt.figure(figsize=(10, 6))\n",
    "sns.scatterplot(data=data, x=year_column, y='Value')\n",
    "plt.title('Scatter Plot of Year vs Value')\n",
    "plt.xlabel('Year')\n",
    "plt.ylabel('Value')\n",
    "plt.show()"
   ]
  },
  {
   "cell_type": "markdown",
   "metadata": {},
   "source": [
    "### Histogram of 'begin_code'\n",
    "This cell creates a histogram to visualize the distribution of values in the 'begin_code' column:\n",
    "\n",
    "1. **Figure Size:** The figure size is set to 10x6 inches for better readability.\n",
    "2. **Histogram with KDE:** A histogram is plotted using seaborn's `histplot` function. The number of bins is set to 30 for detailed granularity. A Kernel Density Estimate (KDE) line is included to provide a smoothed estimate of the distribution.\n",
    "3. **Title and Labels:** The plot is titled 'Distribution of begin code' and the x-axis and y-axis are labeled 'Value' and 'Frequency', respectively.\n",
    "\n",
    "This visualization helps in understanding the distribution and frequency of values in the 'begin_code' column.\n"
   ]
  },
  {
   "cell_type": "code",
   "execution_count": 145,
   "metadata": {},
   "outputs": [
    {
     "data": {
      "image/png": "[encoded data removed]",
      "text/plain": [
       "<Figure size 1000x600 with 1 Axes>"
      ]
     },
     "metadata": {},
     "output_type": "display_data"
    }
   ],
   "source": [
    "# Histogram\n",
    "plt.figure(figsize=(10, 6))\n",
    "sns.histplot(data['begin_code'], bins=30, kde=True)\n",
    "plt.title('Distribution of begin code')\n",
    "plt.xlabel('Value')\n",
    "plt.ylabel('Frequency')\n",
    "plt.show()"
   ]
  },
  {
   "cell_type": "markdown",
   "metadata": {},
   "source": [
    "### Histogram of 'value' distribution\n",
    "This cell creates a histogram to visualize the distribution of values in the 'value' column:\n",
    "\n",
    "1. **Figure Size:** The figure size is set to 10x6 inches for better readability.\n",
    "2. **Histogram with KDE:** A histogram is plotted using seaborn's `histplot` function. The number of bins is set to 30 for detailed granularity. A Kernel Density Estimate (KDE) line is included to provide a smoothed estimate of the distribution.\n",
    "3. **Title and Labels:** The plot is titled 'Distribution of Value' and the x-axis and y-axis are labeled 'Value' and 'Frequency', respectively.\n",
    "\n",
    "This visualization helps in understanding the distribution and frequency of values in the 'Value' column.\n"
   ]
  },
  {
   "cell_type": "code",
   "execution_count": 146,
   "metadata": {},
   "outputs": [
    {
     "data": {
      "image/png": "[encoded data removed]",
      "text/plain": [
       "<Figure size 1000x600 with 1 Axes>"
      ]
     },
     "metadata": {},
     "output_type": "display_data"
    }
   ],
   "source": [
    "# Histogram\n",
    "plt.figure(figsize=(10, 6))\n",
    "sns.histplot(data['Value'], bins=30, kde=True)\n",
    "plt.title('Distribution of Value')\n",
    "plt.xlabel('Value')\n",
    "plt.ylabel('Frequency')\n",
    "plt.show()"
   ]
  },
  {
   "cell_type": "markdown",
   "metadata": {},
   "source": [
    "### Cumulative Value Over Years\n",
    "This cell processes the data to calculate and visualize the cumulative sum of 'Value' over the years:\n",
    "\n",
    "1. **Check and Adjust Year Column Name:** The cell first checks if the 'year' column exists in the DataFrame. If not, it tries 'Year' as another common variant.\n",
    "2. **Convert Columns to Numeric:** Both the 'year' and 'Value' columns are converted to numeric types, coercing errors to NaN. This ensures that any non-numeric values are handled appropriately.\n",
    "3. **Drop Rows with NaN Values:** Rows with NaN values in either the 'year' or 'Value' columns are dropped. This ensures that the data used for the cumulative sum is clean and valid.\n",
    "4. **Calculate Cumulative Sum:** The data is sorted by the 'year' column, and a new column 'Cumulative_Value' is created to store the cumulative sum of the 'Value' column.\n",
    "5. **Create Cumulative Curve:** A cumulative curve is created using Plotly's `px.line` function, plotting 'year' against 'Cumulative_Value'. The plot is titled 'Cumulative Value Over Years'.\n",
    "6. **Hover Information:** Hover information is added to the plot to display the year and cumulative value when hovering over the points.\n",
    "\n",
    "This visualization helps in understanding the trend of cumulative values over the years.\n"
   ]
  },
  {
   "cell_type": "code",
   "execution_count": 147,
   "metadata": {},
   "outputs": [
    {
     "data": {
      "application/vnd.plotly.v1+json": {
       "config": {
        "plotlyServerURL": "https://plot.ly"
       },
       "data": [
        {
         "hovertemplate": "Year: %{x}<br>Cumulative Value: %{y}<extra></extra>",
         "legendgroup": "",
         "line": {
          "color": "#636efa",
          "dash": "solid"
         },
         "marker": {
          "symbol": "circle"
         },
         "mode": "lines+markers",
         "name": "",
         "orientation": "v",
         "showlegend": false,
         "type": "scatter",
         "x": [
          2020,
          2020,
          2020,
          2020,
          2020,
          2020,
          2020,
          2020,
          2020,
          2020,
          2020,
          2020,
          2020,
          2020,
          2020,
          2020,
          2020,
          2020,
          2020,
          2020,
          2020,
          2020,
          2020,
          2020,
          2020,
          2020,
          2020,
          2020,
          2020,
          2020,
          2020,
          2020,
          2020,
          2020,
          2020,
          2020,
          2020,
          2020,
          2020,
          2020,
          2020,
          2020,
          2020,
          2020,
          2020,
          2020,
          2021,
          2021,
          2021,
          2021,
          2021,
          2021,
          2021,
          2021,
          2021,
          2021,
          2021,
          2021,
          2021,
          2021,
          2021,
          2021,
          2021,
          2021,
          2021,
          2021,
          2021,
          2021,
          2021,
          2021,
          2021,
          2021,
          2021,
          2021,
          2021,
          2021,
          2021,
          2021,
          2021,
          2021,
          2021,
          2021,
          2021,
          2021,
          2021,
          2021,
          2021,
          2021,
          2021,
          2021,
          2021,
          2021,
          2021,
          2021,
          2021,
          2022,
          2022,
          2022,
          2022,
          2022,
          2022,
          2022,
          2022,
          2022,
          2022,
          2022,
          2022,
          2022,
          2022,
          2022,
          2022,
          2022,
          2022,
          2022,
          2022,
          2022,
          2022,
          2022,
          2022,
          2022,
          2022,
          2022,
          2022,
          2022,
          2022,
          2022,
          2022,
          2022,
          2022,
          2022,
          2022,
          2022,
          2022,
          2022,
          2022,
          2022,
          2022,
          2022,
          2022,
          2022,
          2022,
          2022,
          2023,
          2023,
          2023,
          2023,
          2023,
          2023,
          2023,
          2023,
          2023,
          2023,
          2023,
          2023,
          2023,
          2023,
          2023,
          2023,
          2023,
          2023,
          2023,
          2023,
          2023,
          2023,
          2023,
          2023,
          2023,
          2023,
          2023,
          2023,
          2023,
          2023,
          2023,
          2023,
          2023,
          2023,
          2023,
          2023,
          2023,
          2023,
          2023,
          2023,
          2023,
          2023,
          2023,
          2023,
          2023,
          2023,
          2023,
          2023,
          2023,
          2023,
          2023,
          2023,
          2023,
          2023,
          2023
         ],
         "xaxis": "x",
         "y": [
          2,
          8,
          84508,
          84512.64,
          84531.64,
          84592.64,
          84619.14,
          84631.14,
          16298631.14,
          16298648.14,
          16299348.14,
          16299366.14,
          16299391.14,
          16299439.14,
          16522939.14,
          16522943.14,
          16927943.14,
          16927977.14,
          16928071.14,
          16979971.14,
          16979981.14,
          16980034.14,
          16980107.14,
          16980191.740000002,
          24033191.740000002,
          24078191.740000002,
          24078251.740000002,
          24078252.740000002,
          24078351.740000002,
          24078354.740000002,
          24078357.740000002,
          24078376.740000002,
          24078377.740000002,
          24078378.740000002,
          24078396.740000002,
          24094496.740000002,
          24098136.740000002,
          24098163.240000002,
          24098228.240000002,
          24098392.540000003,
          24098594.340000004,
          24098597.340000004,
          24098687.340000004,
          24098708.340000004,
          24098802.340000004,
          24098828.840000004,
          25256828.840000004,
          25256833.840000004,
          25256860.340000004,
          25270060.340000004,
          25270063.340000004,
          25270089.840000004,
          25270090.840000004,
          25270093.840000004,
          25277563.840000004,
          25277590.340000004,
          25277604.340000004,
          25451604.340000004,
          25451667.340000004,
          25451668.340000004,
          25451682.340000004,
          25451869.940000005,
          25732869.940000005,
          26248869.940000005,
          26248967.340000004,
          26248972.340000004,
          26269572.340000004,
          26269597.340000004,
          26269599.340000004,
          26269623.340000004,
          26269633.340000004,
          26269644.340000004,
          26269663.340000004,
          26269671.340000004,
          26466271.340000004,
          26466278.340000004,
          26466467.340000004,
          26466514.340000004,
          26466518.340000004,
          33492518.340000004,
          33492564.340000004,
          33492590.840000004,
          33492610.840000004,
          33492615.840000004,
          60054615.84,
          60054640.84,
          60054702.84,
          60054732.84,
          63554732.84,
          63554748.64,
          64119748.64,
          64136148.64,
          64136201.64,
          64136250.64,
          64136251.64,
          64136259.64,
          64136283.64,
          64136296.64,
          64136323.14,
          64136396.14,
          64136401.14,
          64136467.14,
          64136474.14,
          64136475.14,
          64136520.14,
          64136583.54,
          64136698.24,
          64153198.24,
          64153228.24,
          64153324.24,
          64153414.24,
          64153435.24,
          64153454.24,
          64153468.24,
          64153552.24,
          64164652.24,
          64164657.24,
          64164686.24,
          64164689.24,
          64164776.24,
          64164777.24,
          64164790.24,
          64164834.24,
          64164847.24,
          64164878.24,
          64164884.24,
          64164910.74,
          64212910.74,
          64213060.74,
          64213131.74,
          64215011.74,
          64215106.74,
          64215121.74,
          65133121.74,
          65133192.74,
          65133204.74,
          65133205.74,
          65133228.74,
          65133265.74,
          65133337.74,
          65133341.74,
          65133360.74,
          65133387.24,
          65133450.24,
          65133472.24,
          65133521.24,
          65133691.940000005,
          65133695.940000005,
          581253695.94,
          581253722.44,
          581303222.44,
          581303315.44,
          581303335.44,
          581303424.44,
          581303445.44,
          581303470.44,
          581303475.44,
          581305515.44,
          581305541.94,
          581305540.94,
          581305555.94,
          581305639.94,
          581680639.94,
          581680734.94,
          581685934.94,
          581685944.94,
          595098944.94,
          682194944.94,
          682194958.94,
          682195057.94,
          682195061.94,
          686078061.94,
          686225061.94,
          686225068.94,
          686225076.94,
          686225160.94,
          686225305.74,
          686225336.74,
          686225365.74,
          686225369.74,
          686225396.24,
          686225422.74,
          686225427.74,
          686225488.74,
          686372988.74,
          686373015.24,
          686373018.24,
          686373091.24,
          686373173.24,
          686373199.74,
          686373226.24,
          686373245.24,
          686373265.24,
          687822265.24,
          687825955.24,
          687825961.24,
          687825963.24
         ],
         "yaxis": "y"
        }
       ],
       "layout": {
        "legend": {
         "tracegroupgap": 0
        },
        "template": {
         "data": {
          "bar": [
           {
            "error_x": {
             "color": "#2a3f5f"
            },
            "error_y": {
             "color": "#2a3f5f"
            },
            "marker": {
             "line": {
              "color": "#E5ECF6",
              "width": 0.5
             },
             "pattern": {
              "fillmode": "overlay",
              "size": 10,
              "solidity": 0.2
             }
            },
            "type": "bar"
           }
          ],
          "barpolar": [
           {
            "marker": {
             "line": {
              "color": "#E5ECF6",
              "width": 0.5
             },
             "pattern": {
              "fillmode": "overlay",
              "size": 10,
              "solidity": 0.2
             }
            },
            "type": "barpolar"
           }
          ],
          "carpet": [
           {
            "aaxis": {
             "endlinecolor": "#2a3f5f",
             "gridcolor": "white",
             "linecolor": "white",
             "minorgridcolor": "white",
             "startlinecolor": "#2a3f5f"
            },
            "baxis": {
             "endlinecolor": "#2a3f5f",
             "gridcolor": "white",
             "linecolor": "white",
             "minorgridcolor": "white",
             "startlinecolor": "#2a3f5f"
            },
            "type": "carpet"
           }
          ],
          "choropleth": [
           {
            "colorbar": {
             "outlinewidth": 0,
             "ticks": ""
            },
            "type": "choropleth"
           }
          ],
          "contour": [
           {
            "colorbar": {
             "outlinewidth": 0,
             "ticks": ""
            },
            "colorscale": [
             [
              0,
              "#0d0887"
             ],
             [
              0.1111111111111111,
              "#46039f"
             ],
             [
              0.2222222222222222,
              "#7201a8"
             ],
             [
              0.3333333333333333,
              "#9c179e"
             ],
             [
              0.4444444444444444,
              "#bd3786"
             ],
             [
              0.5555555555555556,
              "#d8576b"
             ],
             [
              0.6666666666666666,
              "#ed7953"
             ],
             [
              0.7777777777777778,
              "#fb9f3a"
             ],
             [
              0.8888888888888888,
              "#fdca26"
             ],
             [
              1,
              "#f0f921"
             ]
            ],
            "type": "contour"
           }
          ],
          "contourcarpet": [
           {
            "colorbar": {
             "outlinewidth": 0,
             "ticks": ""
            },
            "type": "contourcarpet"
           }
          ],
          "heatmap": [
           {
            "colorbar": {
             "outlinewidth": 0,
             "ticks": ""
            },
            "colorscale": [
             [
              0,
              "#0d0887"
             ],
             [
              0.1111111111111111,
              "#46039f"
             ],
             [
              0.2222222222222222,
              "#7201a8"
             ],
             [
              0.3333333333333333,
              "#9c179e"
             ],
             [
              0.4444444444444444,
              "#bd3786"
             ],
             [
              0.5555555555555556,
              "#d8576b"
             ],
             [
              0.6666666666666666,
              "#ed7953"
             ],
             [
              0.7777777777777778,
              "#fb9f3a"
             ],
             [
              0.8888888888888888,
              "#fdca26"
             ],
             [
              1,
              "#f0f921"
             ]
            ],
            "type": "heatmap"
           }
          ],
          "heatmapgl": [
           {
            "colorbar": {
             "outlinewidth": 0,
             "ticks": ""
            },
            "colorscale": [
             [
              0,
              "#0d0887"
             ],
             [
              0.1111111111111111,
              "#46039f"
             ],
             [
              0.2222222222222222,
              "#7201a8"
             ],
             [
              0.3333333333333333,
              "#9c179e"
             ],
             [
              0.4444444444444444,
              "#bd3786"
             ],
             [
              0.5555555555555556,
              "#d8576b"
             ],
             [
              0.6666666666666666,
              "#ed7953"
             ],
             [
              0.7777777777777778,
              "#fb9f3a"
             ],
             [
              0.8888888888888888,
              "#fdca26"
             ],
             [
              1,
              "#f0f921"
             ]
            ],
            "type": "heatmapgl"
           }
          ],
          "histogram": [
           {
            "marker": {
             "pattern": {
              "fillmode": "overlay",
              "size": 10,
              "solidity": 0.2
             }
            },
            "type": "histogram"
           }
          ],
          "histogram2d": [
           {
            "colorbar": {
             "outlinewidth": 0,
             "ticks": ""
            },
            "colorscale": [
             [
              0,
              "#0d0887"
             ],
             [
              0.1111111111111111,
              "#46039f"
             ],
             [
              0.2222222222222222,
              "#7201a8"
             ],
             [
              0.3333333333333333,
              "#9c179e"
             ],
             [
              0.4444444444444444,
              "#bd3786"
             ],
             [
              0.5555555555555556,
              "#d8576b"
             ],
             [
              0.6666666666666666,
              "#ed7953"
             ],
             [
              0.7777777777777778,
              "#fb9f3a"
             ],
             [
              0.8888888888888888,
              "#fdca26"
             ],
             [
              1,
              "#f0f921"
             ]
            ],
            "type": "histogram2d"
           }
          ],
          "histogram2dcontour": [
           {
            "colorbar": {
             "outlinewidth": 0,
             "ticks": ""
            },
            "colorscale": [
             [
              0,
              "#0d0887"
             ],
             [
              0.1111111111111111,
              "#46039f"
             ],
             [
              0.2222222222222222,
              "#7201a8"
             ],
             [
              0.3333333333333333,
              "#9c179e"
             ],
             [
              0.4444444444444444,
              "#bd3786"
             ],
             [
              0.5555555555555556,
              "#d8576b"
             ],
             [
              0.6666666666666666,
              "#ed7953"
             ],
             [
              0.7777777777777778,
              "#fb9f3a"
             ],
             [
              0.8888888888888888,
              "#fdca26"
             ],
             [
              1,
              "#f0f921"
             ]
            ],
            "type": "histogram2dcontour"
           }
          ],
          "mesh3d": [
           {
            "colorbar": {
             "outlinewidth": 0,
             "ticks": ""
            },
            "type": "mesh3d"
           }
          ],
          "parcoords": [
           {
            "line": {
             "colorbar": {
              "outlinewidth": 0,
              "ticks": ""
             }
            },
            "type": "parcoords"
           }
          ],
          "pie": [
           {
            "automargin": true,
            "type": "pie"
           }
          ],
          "scatter": [
           {
            "fillpattern": {
             "fillmode": "overlay",
             "size": 10,
             "solidity": 0.2
            },
            "type": "scatter"
           }
          ],
          "scatter3d": [
           {
            "line": {
             "colorbar": {
              "outlinewidth": 0,
              "ticks": ""
             }
            },
            "marker": {
             "colorbar": {
              "outlinewidth": 0,
              "ticks": ""
             }
            },
            "type": "scatter3d"
           }
          ],
          "scattercarpet": [
           {
            "marker": {
             "colorbar": {
              "outlinewidth": 0,
              "ticks": ""
             }
            },
            "type": "scattercarpet"
           }
          ],
          "scattergeo": [
           {
            "marker": {
             "colorbar": {
              "outlinewidth": 0,
              "ticks": ""
             }
            },
            "type": "scattergeo"
           }
          ],
          "scattergl": [
           {
            "marker": {
             "colorbar": {
              "outlinewidth": 0,
              "ticks": ""
             }
            },
            "type": "scattergl"
           }
          ],
          "scattermapbox": [
           {
            "marker": {
             "colorbar": {
              "outlinewidth": 0,
              "ticks": ""
             }
            },
            "type": "scattermapbox"
           }
          ],
          "scatterpolar": [
           {
            "marker": {
             "colorbar": {
              "outlinewidth": 0,
              "ticks": ""
             }
            },
            "type": "scatterpolar"
           }
          ],
          "scatterpolargl": [
           {
            "marker": {
             "colorbar": {
              "outlinewidth": 0,
              "ticks": ""
             }
            },
            "type": "scatterpolargl"
           }
          ],
          "scatterternary": [
           {
            "marker": {
             "colorbar": {
              "outlinewidth": 0,
              "ticks": ""
             }
            },
            "type": "scatterternary"
           }
          ],
          "surface": [
           {
            "colorbar": {
             "outlinewidth": 0,
             "ticks": ""
            },
            "colorscale": [
             [
              0,
              "#0d0887"
             ],
             [
              0.1111111111111111,
              "#46039f"
             ],
             [
              0.2222222222222222,
              "#7201a8"
             ],
             [
              0.3333333333333333,
              "#9c179e"
             ],
             [
              0.4444444444444444,
              "#bd3786"
             ],
             [
              0.5555555555555556,
              "#d8576b"
             ],
             [
              0.6666666666666666,
              "#ed7953"
             ],
             [
              0.7777777777777778,
              "#fb9f3a"
             ],
             [
              0.8888888888888888,
              "#fdca26"
             ],
             [
              1,
              "#f0f921"
             ]
            ],
            "type": "surface"
           }
          ],
          "table": [
           {
            "cells": {
             "fill": {
              "color": "#EBF0F8"
             },
             "line": {
              "color": "white"
             }
            },
            "header": {
             "fill": {
              "color": "#C8D4E3"
             },
             "line": {
              "color": "white"
             }
            },
            "type": "table"
           }
          ]
         },
         "layout": {
          "annotationdefaults": {
           "arrowcolor": "#2a3f5f",
           "arrowhead": 0,
           "arrowwidth": 1
          },
          "autotypenumbers": "strict",
          "coloraxis": {
           "colorbar": {
            "outlinewidth": 0,
            "ticks": ""
           }
          },
          "colorscale": {
           "diverging": [
            [
             0,
             "#8e0152"
            ],
            [
             0.1,
             "#c51b7d"
            ],
            [
             0.2,
             "#de77ae"
            ],
            [
             0.3,
             "#f1b6da"
            ],
            [
             0.4,
             "#fde0ef"
            ],
            [
             0.5,
             "#f7f7f7"
            ],
            [
             0.6,
             "#e6f5d0"
            ],
            [
             0.7,
             "#b8e186"
            ],
            [
             0.8,
             "#7fbc41"
            ],
            [
             0.9,
             "#4d9221"
            ],
            [
             1,
             "#276419"
            ]
           ],
           "sequential": [
            [
             0,
             "#0d0887"
            ],
            [
             0.1111111111111111,
             "#46039f"
            ],
            [
             0.2222222222222222,
             "#7201a8"
            ],
            [
             0.3333333333333333,
             "#9c179e"
            ],
            [
             0.4444444444444444,
             "#bd3786"
            ],
            [
             0.5555555555555556,
             "#d8576b"
            ],
            [
             0.6666666666666666,
             "#ed7953"
            ],
            [
             0.7777777777777778,
             "#fb9f3a"
            ],
            [
             0.8888888888888888,
             "#fdca26"
            ],
            [
             1,
             "#f0f921"
            ]
           ],
           "sequentialminus": [
            [
             0,
             "#0d0887"
            ],
            [
             0.1111111111111111,
             "#46039f"
            ],
            [
             0.2222222222222222,
             "#7201a8"
            ],
            [
             0.3333333333333333,
             "#9c179e"
            ],
            [
             0.4444444444444444,
             "#bd3786"
            ],
            [
             0.5555555555555556,
             "#d8576b"
            ],
            [
             0.6666666666666666,
             "#ed7953"
            ],
            [
             0.7777777777777778,
             "#fb9f3a"
            ],
            [
             0.8888888888888888,
             "#fdca26"
            ],
            [
             1,
             "#f0f921"
            ]
           ]
          },
          "colorway": [
           "#636efa",
           "#EF553B",
           "#00cc96",
           "#ab63fa",
           "#FFA15A",
           "#19d3f3",
           "#FF6692",
           "#B6E880",
           "#FF97FF",
           "#FECB52"
          ],
          "font": {
           "color": "#2a3f5f"
          },
          "geo": {
           "bgcolor": "white",
           "lakecolor": "white",
           "landcolor": "#E5ECF6",
           "showlakes": true,
           "showland": true,
           "subunitcolor": "white"
          },
          "hoverlabel": {
           "align": "left"
          },
          "hovermode": "closest",
          "mapbox": {
           "style": "light"
          },
          "paper_bgcolor": "white",
          "plot_bgcolor": "#E5ECF6",
          "polar": {
           "angularaxis": {
            "gridcolor": "white",
            "linecolor": "white",
            "ticks": ""
           },
           "bgcolor": "#E5ECF6",
           "radialaxis": {
            "gridcolor": "white",
            "linecolor": "white",
            "ticks": ""
           }
          },
          "scene": {
           "xaxis": {
            "backgroundcolor": "#E5ECF6",
            "gridcolor": "white",
            "gridwidth": 2,
            "linecolor": "white",
            "showbackground": true,
            "ticks": "",
            "zerolinecolor": "white"
           },
           "yaxis": {
            "backgroundcolor": "#E5ECF6",
            "gridcolor": "white",
            "gridwidth": 2,
            "linecolor": "white",
            "showbackground": true,
            "ticks": "",
            "zerolinecolor": "white"
           },
           "zaxis": {
            "backgroundcolor": "#E5ECF6",
            "gridcolor": "white",
            "gridwidth": 2,
            "linecolor": "white",
            "showbackground": true,
            "ticks": "",
            "zerolinecolor": "white"
           }
          },
          "shapedefaults": {
           "line": {
            "color": "#2a3f5f"
           }
          },
          "ternary": {
           "aaxis": {
            "gridcolor": "white",
            "linecolor": "white",
            "ticks": ""
           },
           "baxis": {
            "gridcolor": "white",
            "linecolor": "white",
            "ticks": ""
           },
           "bgcolor": "#E5ECF6",
           "caxis": {
            "gridcolor": "white",
            "linecolor": "white",
            "ticks": ""
           }
          },
          "title": {
           "x": 0.05
          },
          "xaxis": {
           "automargin": true,
           "gridcolor": "white",
           "linecolor": "white",
           "ticks": "",
           "title": {
            "standoff": 15
           },
           "zerolinecolor": "white",
           "zerolinewidth": 2
          },
          "yaxis": {
           "automargin": true,
           "gridcolor": "white",
           "linecolor": "white",
           "ticks": "",
           "title": {
            "standoff": 15
           },
           "zerolinecolor": "white",
           "zerolinewidth": 2
          }
         }
        },
        "title": {
         "text": "Cumulative Value Over Years"
        },
        "xaxis": {
         "anchor": "y",
         "domain": [
          0,
          1
         ],
         "title": {
          "text": "year"
         }
        },
        "yaxis": {
         "anchor": "x",
         "domain": [
          0,
          1
         ],
         "title": {
          "text": "Cumulative_Value"
         }
        }
       }
      }
     },
     "metadata": {},
     "output_type": "display_data"
    }
   ],
   "source": [
    "# Ensure 'year' and 'Value' columns are numeric\n",
    "year_column = 'year'  # Adjust if the actual column name is different\n",
    "if year_column not in data.columns:\n",
    "    year_column = 'Year'  # Another common variant\n",
    "\n",
    "data[year_column] = pd.to_numeric(data[year_column], errors='coerce')\n",
    "data['Value'] = pd.to_numeric(data['Value'], errors='coerce')\n",
    "\n",
    "# Drop rows with NaN values in 'year' or 'Value' after conversion\n",
    "data = data.dropna(subset=[year_column, 'Value'])\n",
    "\n",
    "# Calculate cumulative sum of values per year\n",
    "data = data.sort_values(by=year_column)\n",
    "data['Cumulative_Value'] = data['Value'].cumsum()\n",
    "\n",
    "# Create a cumulative curve using plotly\n",
    "fig = px.line(data, x=year_column, y='Cumulative_Value', title='Cumulative Value Over Years')\n",
    "\n",
    "# Add hover information\n",
    "fig.update_traces(mode='lines+markers', hovertemplate='Year: %{x}<br>Cumulative Value: %{y}<extra></extra>')\n",
    "\n",
    "# Show the plot\n",
    "fig.show()"
   ]
  },
  {
   "cell_type": "markdown",
   "metadata": {},
   "source": [
    "```python\n",
    "# Create a box plot for the 'Value' column using Plotly\n",
    "import plotly.express as px\n",
    "\n",
    "fig = px.box(data, y='Value', title='Box Plot of Values', points=\"all\")\n",
    "\n",
    "# Add hover information\n",
    "fig.update_traces(hovertemplate='Value: %{y}<extra></extra>')\n",
    "\n",
    "# Show the plot\n",
    "fig.show()\n"
   ]
  },
  {
   "cell_type": "code",
   "execution_count": 148,
   "metadata": {},
   "outputs": [
    {
     "data": {
      "application/vnd.plotly.v1+json": {
       "config": {
        "plotlyServerURL": "https://plot.ly"
       },
       "data": [
        {
         "alignmentgroup": "True",
         "boxpoints": "all",
         "hovertemplate": "Value: %{y}<extra></extra>",
         "legendgroup": "",
         "marker": {
          "color": "#636efa"
         },
         "name": "",
         "notched": false,
         "offsetgroup": "",
         "orientation": "v",
         "showlegend": false,
         "type": "box",
         "x0": " ",
         "xaxis": "x",
         "y": [
          2,
          6,
          84500,
          4.64,
          19,
          61,
          26.5,
          12,
          16214000,
          17,
          700,
          18,
          25,
          48,
          223500,
          4,
          405000,
          34,
          94,
          51900,
          10,
          53,
          73,
          84.6,
          7053000,
          45000,
          60,
          1,
          99,
          3,
          3,
          19,
          1,
          1,
          18,
          16100,
          3640,
          26.5,
          65,
          164.3,
          201.8,
          3,
          90,
          21,
          94,
          26.5,
          1158000,
          5,
          26.5,
          13200,
          3,
          26.5,
          1,
          3,
          7470,
          26.5,
          14,
          174000,
          63,
          1,
          14,
          187.6,
          281000,
          516000,
          97.4,
          5,
          20600,
          25,
          2,
          24,
          10,
          11,
          19,
          8,
          196600,
          7,
          189,
          47,
          4,
          7026000,
          46,
          26.5,
          20,
          5,
          26562000,
          25,
          62,
          30,
          3500000,
          15.8,
          565000,
          16400,
          53,
          49,
          1,
          8,
          24,
          13,
          26.5,
          73,
          5,
          66,
          7,
          1,
          45,
          63.4,
          114.7,
          16500,
          30,
          96,
          90,
          21,
          19,
          14,
          84,
          11100,
          5,
          29,
          3,
          87,
          1,
          13,
          44,
          13,
          31,
          6,
          26.5,
          48000,
          150,
          71,
          1880,
          95,
          15,
          918000,
          71,
          12,
          1,
          23,
          37,
          72,
          4,
          19,
          26.5,
          63,
          22,
          49,
          170.7,
          4,
          516120000,
          26.5,
          49500,
          93,
          20,
          89,
          21,
          25,
          5,
          2040,
          26.5,
          -1,
          15,
          84,
          375000,
          95,
          5200,
          10,
          13413000,
          87096000,
          14,
          99,
          4,
          3883000,
          147000,
          7,
          8,
          84,
          144.8,
          31,
          29,
          4,
          26.5,
          26.5,
          5,
          61,
          147500,
          26.5,
          3,
          73,
          82,
          26.5,
          26.5,
          19,
          20,
          1449000,
          3690,
          6,
          2
         ],
         "y0": " ",
         "yaxis": "y"
        }
       ],
       "layout": {
        "boxmode": "group",
        "legend": {
         "tracegroupgap": 0
        },
        "template": {
         "data": {
          "bar": [
           {
            "error_x": {
             "color": "#2a3f5f"
            },
            "error_y": {
             "color": "#2a3f5f"
            },
            "marker": {
             "line": {
              "color": "#E5ECF6",
              "width": 0.5
             },
             "pattern": {
              "fillmode": "overlay",
              "size": 10,
              "solidity": 0.2
             }
            },
            "type": "bar"
           }
          ],
          "barpolar": [
           {
            "marker": {
             "line": {
              "color": "#E5ECF6",
              "width": 0.5
             },
             "pattern": {
              "fillmode": "overlay",
              "size": 10,
              "solidity": 0.2
             }
            },
            "type": "barpolar"
           }
          ],
          "carpet": [
           {
            "aaxis": {
             "endlinecolor": "#2a3f5f",
             "gridcolor": "white",
             "linecolor": "white",
             "minorgridcolor": "white",
             "startlinecolor": "#2a3f5f"
            },
            "baxis": {
             "endlinecolor": "#2a3f5f",
             "gridcolor": "white",
             "linecolor": "white",
             "minorgridcolor": "white",
             "startlinecolor": "#2a3f5f"
            },
            "type": "carpet"
           }
          ],
          "choropleth": [
           {
            "colorbar": {
             "outlinewidth": 0,
             "ticks": ""
            },
            "type": "choropleth"
           }
          ],
          "contour": [
           {
            "colorbar": {
             "outlinewidth": 0,
             "ticks": ""
            },
            "colorscale": [
             [
              0,
              "#0d0887"
             ],
             [
              0.1111111111111111,
              "#46039f"
             ],
             [
              0.2222222222222222,
              "#7201a8"
             ],
             [
              0.3333333333333333,
              "#9c179e"
             ],
             [
              0.4444444444444444,
              "#bd3786"
             ],
             [
              0.5555555555555556,
              "#d8576b"
             ],
             [
              0.6666666666666666,
              "#ed7953"
             ],
             [
              0.7777777777777778,
              "#fb9f3a"
             ],
             [
              0.8888888888888888,
              "#fdca26"
             ],
             [
              1,
              "#f0f921"
             ]
            ],
            "type": "contour"
           }
          ],
          "contourcarpet": [
           {
            "colorbar": {
             "outlinewidth": 0,
             "ticks": ""
            },
            "type": "contourcarpet"
           }
          ],
          "heatmap": [
           {
            "colorbar": {
             "outlinewidth": 0,
             "ticks": ""
            },
            "colorscale": [
             [
              0,
              "#0d0887"
             ],
             [
              0.1111111111111111,
              "#46039f"
             ],
             [
              0.2222222222222222,
              "#7201a8"
             ],
             [
              0.3333333333333333,
              "#9c179e"
             ],
             [
              0.4444444444444444,
              "#bd3786"
             ],
             [
              0.5555555555555556,
              "#d8576b"
             ],
             [
              0.6666666666666666,
              "#ed7953"
             ],
             [
              0.7777777777777778,
              "#fb9f3a"
             ],
             [
              0.8888888888888888,
              "#fdca26"
             ],
             [
              1,
              "#f0f921"
             ]
            ],
            "type": "heatmap"
           }
          ],
          "heatmapgl": [
           {
            "colorbar": {
             "outlinewidth": 0,
             "ticks": ""
            },
            "colorscale": [
             [
              0,
              "#0d0887"
             ],
             [
              0.1111111111111111,
              "#46039f"
             ],
             [
              0.2222222222222222,
              "#7201a8"
             ],
             [
              0.3333333333333333,
              "#9c179e"
             ],
             [
              0.4444444444444444,
              "#bd3786"
             ],
             [
              0.5555555555555556,
              "#d8576b"
             ],
             [
              0.6666666666666666,
              "#ed7953"
             ],
             [
              0.7777777777777778,
              "#fb9f3a"
             ],
             [
              0.8888888888888888,
              "#fdca26"
             ],
             [
              1,
              "#f0f921"
             ]
            ],
            "type": "heatmapgl"
           }
          ],
          "histogram": [
           {
            "marker": {
             "pattern": {
              "fillmode": "overlay",
              "size": 10,
              "solidity": 0.2
             }
            },
            "type": "histogram"
           }
          ],
          "histogram2d": [
           {
            "colorbar": {
             "outlinewidth": 0,
             "ticks": ""
            },
            "colorscale": [
             [
              0,
              "#0d0887"
             ],
             [
              0.1111111111111111,
              "#46039f"
             ],
             [
              0.2222222222222222,
              "#7201a8"
             ],
             [
              0.3333333333333333,
              "#9c179e"
             ],
             [
              0.4444444444444444,
              "#bd3786"
             ],
             [
              0.5555555555555556,
              "#d8576b"
             ],
             [
              0.6666666666666666,
              "#ed7953"
             ],
             [
              0.7777777777777778,
              "#fb9f3a"
             ],
             [
              0.8888888888888888,
              "#fdca26"
             ],
             [
              1,
              "#f0f921"
             ]
            ],
            "type": "histogram2d"
           }
          ],
          "histogram2dcontour": [
           {
            "colorbar": {
             "outlinewidth": 0,
             "ticks": ""
            },
            "colorscale": [
             [
              0,
              "#0d0887"
             ],
             [
              0.1111111111111111,
              "#46039f"
             ],
             [
              0.2222222222222222,
              "#7201a8"
             ],
             [
              0.3333333333333333,
              "#9c179e"
             ],
             [
              0.4444444444444444,
              "#bd3786"
             ],
             [
              0.5555555555555556,
              "#d8576b"
             ],
             [
              0.6666666666666666,
              "#ed7953"
             ],
             [
              0.7777777777777778,
              "#fb9f3a"
             ],
             [
              0.8888888888888888,
              "#fdca26"
             ],
             [
              1,
              "#f0f921"
             ]
            ],
            "type": "histogram2dcontour"
           }
          ],
          "mesh3d": [
           {
            "colorbar": {
             "outlinewidth": 0,
             "ticks": ""
            },
            "type": "mesh3d"
           }
          ],
          "parcoords": [
           {
            "line": {
             "colorbar": {
              "outlinewidth": 0,
              "ticks": ""
             }
            },
            "type": "parcoords"
           }
          ],
          "pie": [
           {
            "automargin": true,
            "type": "pie"
           }
          ],
          "scatter": [
           {
            "fillpattern": {
             "fillmode": "overlay",
             "size": 10,
             "solidity": 0.2
            },
            "type": "scatter"
           }
          ],
          "scatter3d": [
           {
            "line": {
             "colorbar": {
              "outlinewidth": 0,
              "ticks": ""
             }
            },
            "marker": {
             "colorbar": {
              "outlinewidth": 0,
              "ticks": ""
             }
            },
            "type": "scatter3d"
           }
          ],
          "scattercarpet": [
           {
            "marker": {
             "colorbar": {
              "outlinewidth": 0,
              "ticks": ""
             }
            },
            "type": "scattercarpet"
           }
          ],
          "scattergeo": [
           {
            "marker": {
             "colorbar": {
              "outlinewidth": 0,
              "ticks": ""
             }
            },
            "type": "scattergeo"
           }
          ],
          "scattergl": [
           {
            "marker": {
             "colorbar": {
              "outlinewidth": 0,
              "ticks": ""
             }
            },
            "type": "scattergl"
           }
          ],
          "scattermapbox": [
           {
            "marker": {
             "colorbar": {
              "outlinewidth": 0,
              "ticks": ""
             }
            },
            "type": "scattermapbox"
           }
          ],
          "scatterpolar": [
           {
            "marker": {
             "colorbar": {
              "outlinewidth": 0,
              "ticks": ""
             }
            },
            "type": "scatterpolar"
           }
          ],
          "scatterpolargl": [
           {
            "marker": {
             "colorbar": {
              "outlinewidth": 0,
              "ticks": ""
             }
            },
            "type": "scatterpolargl"
           }
          ],
          "scatterternary": [
           {
            "marker": {
             "colorbar": {
              "outlinewidth": 0,
              "ticks": ""
             }
            },
            "type": "scatterternary"
           }
          ],
          "surface": [
           {
            "colorbar": {
             "outlinewidth": 0,
             "ticks": ""
            },
            "colorscale": [
             [
              0,
              "#0d0887"
             ],
             [
              0.1111111111111111,
              "#46039f"
             ],
             [
              0.2222222222222222,
              "#7201a8"
             ],
             [
              0.3333333333333333,
              "#9c179e"
             ],
             [
              0.4444444444444444,
              "#bd3786"
             ],
             [
              0.5555555555555556,
              "#d8576b"
             ],
             [
              0.6666666666666666,
              "#ed7953"
             ],
             [
              0.7777777777777778,
              "#fb9f3a"
             ],
             [
              0.8888888888888888,
              "#fdca26"
             ],
             [
              1,
              "#f0f921"
             ]
            ],
            "type": "surface"
           }
          ],
          "table": [
           {
            "cells": {
             "fill": {
              "color": "#EBF0F8"
             },
             "line": {
              "color": "white"
             }
            },
            "header": {
             "fill": {
              "color": "#C8D4E3"
             },
             "line": {
              "color": "white"
             }
            },
            "type": "table"
           }
          ]
         },
         "layout": {
          "annotationdefaults": {
           "arrowcolor": "#2a3f5f",
           "arrowhead": 0,
           "arrowwidth": 1
          },
          "autotypenumbers": "strict",
          "coloraxis": {
           "colorbar": {
            "outlinewidth": 0,
            "ticks": ""
           }
          },
          "colorscale": {
           "diverging": [
            [
             0,
             "#8e0152"
            ],
            [
             0.1,
             "#c51b7d"
            ],
            [
             0.2,
             "#de77ae"
            ],
            [
             0.3,
             "#f1b6da"
            ],
            [
             0.4,
             "#fde0ef"
            ],
            [
             0.5,
             "#f7f7f7"
            ],
            [
             0.6,
             "#e6f5d0"
            ],
            [
             0.7,
             "#b8e186"
            ],
            [
             0.8,
             "#7fbc41"
            ],
            [
             0.9,
             "#4d9221"
            ],
            [
             1,
             "#276419"
            ]
           ],
           "sequential": [
            [
             0,
             "#0d0887"
            ],
            [
             0.1111111111111111,
             "#46039f"
            ],
            [
             0.2222222222222222,
             "#7201a8"
            ],
            [
             0.3333333333333333,
             "#9c179e"
            ],
            [
             0.4444444444444444,
             "#bd3786"
            ],
            [
             0.5555555555555556,
             "#d8576b"
            ],
            [
             0.6666666666666666,
             "#ed7953"
            ],
            [
             0.7777777777777778,
             "#fb9f3a"
            ],
            [
             0.8888888888888888,
             "#fdca26"
            ],
            [
             1,
             "#f0f921"
            ]
           ],
           "sequentialminus": [
            [
             0,
             "#0d0887"
            ],
            [
             0.1111111111111111,
             "#46039f"
            ],
            [
             0.2222222222222222,
             "#7201a8"
            ],
            [
             0.3333333333333333,
             "#9c179e"
            ],
            [
             0.4444444444444444,
             "#bd3786"
            ],
            [
             0.5555555555555556,
             "#d8576b"
            ],
            [
             0.6666666666666666,
             "#ed7953"
            ],
            [
             0.7777777777777778,
             "#fb9f3a"
            ],
            [
             0.8888888888888888,
             "#fdca26"
            ],
            [
             1,
             "#f0f921"
            ]
           ]
          },
          "colorway": [
           "#636efa",
           "#EF553B",
           "#00cc96",
           "#ab63fa",
           "#FFA15A",
           "#19d3f3",
           "#FF6692",
           "#B6E880",
           "#FF97FF",
           "#FECB52"
          ],
          "font": {
           "color": "#2a3f5f"
          },
          "geo": {
           "bgcolor": "white",
           "lakecolor": "white",
           "landcolor": "#E5ECF6",
           "showlakes": true,
           "showland": true,
           "subunitcolor": "white"
          },
          "hoverlabel": {
           "align": "left"
          },
          "hovermode": "closest",
          "mapbox": {
           "style": "light"
          },
          "paper_bgcolor": "white",
          "plot_bgcolor": "#E5ECF6",
          "polar": {
           "angularaxis": {
            "gridcolor": "white",
            "linecolor": "white",
            "ticks": ""
           },
           "bgcolor": "#E5ECF6",
           "radialaxis": {
            "gridcolor": "white",
            "linecolor": "white",
            "ticks": ""
           }
          },
          "scene": {
           "xaxis": {
            "backgroundcolor": "#E5ECF6",
            "gridcolor": "white",
            "gridwidth": 2,
            "linecolor": "white",
            "showbackground": true,
            "ticks": "",
            "zerolinecolor": "white"
           },
           "yaxis": {
            "backgroundcolor": "#E5ECF6",
            "gridcolor": "white",
            "gridwidth": 2,
            "linecolor": "white",
            "showbackground": true,
            "ticks": "",
            "zerolinecolor": "white"
           },
           "zaxis": {
            "backgroundcolor": "#E5ECF6",
            "gridcolor": "white",
            "gridwidth": 2,
            "linecolor": "white",
            "showbackground": true,
            "ticks": "",
            "zerolinecolor": "white"
           }
          },
          "shapedefaults": {
           "line": {
            "color": "#2a3f5f"
           }
          },
          "ternary": {
           "aaxis": {
            "gridcolor": "white",
            "linecolor": "white",
            "ticks": ""
           },
           "baxis": {
            "gridcolor": "white",
            "linecolor": "white",
            "ticks": ""
           },
           "bgcolor": "#E5ECF6",
           "caxis": {
            "gridcolor": "white",
            "linecolor": "white",
            "ticks": ""
           }
          },
          "title": {
           "x": 0.05
          },
          "xaxis": {
           "automargin": true,
           "gridcolor": "white",
           "linecolor": "white",
           "ticks": "",
           "title": {
            "standoff": 15
           },
           "zerolinecolor": "white",
           "zerolinewidth": 2
          },
          "yaxis": {
           "automargin": true,
           "gridcolor": "white",
           "linecolor": "white",
           "ticks": "",
           "title": {
            "standoff": 15
           },
           "zerolinecolor": "white",
           "zerolinewidth": 2
          }
         }
        },
        "title": {
         "text": "Box Plot of Values"
        },
        "xaxis": {
         "anchor": "y",
         "domain": [
          0,
          1
         ]
        },
        "yaxis": {
         "anchor": "x",
         "domain": [
          0,
          1
         ],
         "title": {
          "text": "Value"
         }
        }
       }
      }
     },
     "metadata": {},
     "output_type": "display_data"
    }
   ],
   "source": [
    "# Create a box plot for the 'Value' column using Plotly\n",
    "fig = px.box(data, y='Value', title='Box Plot of Values', points=\"all\")\n",
    "\n",
    "# Add hover information\n",
    "fig.update_traces(hovertemplate='Value: %{y}<extra></extra>')\n",
    "\n",
    "# Show the plot\n",
    "fig.show()\n",
    "\n",
    "\n"
   ]
  }
 ],
 "metadata": {
  "kernelspec": {
   "display_name": "Python 3",
   "language": "python",
   "name": "python3"
  },
  "language_info": {
   "codemirror_mode": {
    "name": "ipython",
    "version": 3
   },
   "file_extension": ".py",
   "mimetype": "text/x-python",
   "name": "python",
   "nbconvert_exporter": "python",
   "pygments_lexer": "ipython3",
   "version": "3.11.4"
  }
 },
 "nbformat": 4,
 "nbformat_minor": 2
}
